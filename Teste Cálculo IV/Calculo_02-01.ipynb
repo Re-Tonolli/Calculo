{
 "metadata": {
  "language_info": {
   "codemirror_mode": {
    "name": "ipython",
    "version": 3
   },
   "file_extension": ".py",
   "mimetype": "text/x-python",
   "name": "python",
   "nbconvert_exporter": "python",
   "pygments_lexer": "ipython3",
   "version": "3.6.9-final"
  },
  "orig_nbformat": 2,
  "kernelspec": {
   "name": "python369jvsc74a57bd031f2aee4e71d21fbe5cf8b01ff0e069b9275f58929596ceb00d14d90e3e16cd6",
   "display_name": "Python 3.6.9 64-bit"
  },
  "metadata": {
   "interpreter": {
    "hash": "31f2aee4e71d21fbe5cf8b01ff0e069b9275f58929596ceb00d14d90e3e16cd6"
   }
  }
 },
 "nbformat": 4,
 "nbformat_minor": 2,
 "cells": [
  {
   "source": [
    "# Resolução: Exercício 2 - P1\n",
    "\n",
    "Calcule a área da superfície **S** descrita como sendo a parte do cone $z = \\sqrt{6x^2+6y^2}$ que está acima do círculo $(x-1)^2 +y^2 \\le 1$."
   ],
   "cell_type": "markdown",
   "metadata": {}
  },
  {
   "source": [
    "Inicialmente, importa-se as bibliotecas."
   ],
   "cell_type": "markdown",
   "metadata": {}
  },
  {
   "cell_type": "code",
   "execution_count": 1,
   "metadata": {},
   "outputs": [],
   "source": [
    "import matplotlib.pyplot as plt\n",
    "import numpy as np\n",
    "import scipy as sp\n",
    "from math import sqrt\n",
    "from sympy import *\n",
    "from math import pi\n",
    "from sympy.plotting import plot3d\n",
    "x, y, z, phi, rho = symbols('x, y, z, phi, rho')"
   ]
  },
  {
   "source": [
    "Define-se a função cônica:"
   ],
   "cell_type": "markdown",
   "metadata": {}
  },
  {
   "cell_type": "code",
   "execution_count": 2,
   "metadata": {},
   "outputs": [],
   "source": [
    "def cone(x,y):\n",
    "    return sqrt((6*(x**2)) + (6*(y**2)))"
   ]
  },
  {
   "source": [
    "Calcula-se as derivadas da função cone em relação a $x$ e a $y$."
   ],
   "cell_type": "markdown",
   "metadata": {}
  },
  {
   "cell_type": "code",
   "execution_count": 3,
   "metadata": {},
   "outputs": [
    {
     "output_type": "execute_result",
     "data": {
      "text/plain": [
       "6*x/sqrt(6*x**2 + 6*y**2)"
      ],
      "text/latex": "$\\displaystyle \\frac{6 x}{\\sqrt{6 x^{2} + 6 y^{2}}}$"
     },
     "metadata": {},
     "execution_count": 3
    }
   ],
   "source": [
    "cone_dx = diff(cone(x,y), x)\n",
    "cone_dy = diff(cone(x,y), y)\n",
    "cone_dy\n",
    "cone_dx"
   ]
  },
  {
   "cell_type": "code",
   "execution_count": 4,
   "metadata": {},
   "outputs": [
    {
     "output_type": "execute_result",
     "data": {
      "text/plain": [
       "6*x/sqrt(6*x**2 + 6*y**2)"
      ],
      "text/latex": "$\\displaystyle \\frac{6 x}{\\sqrt{6 x^{2} + 6 y^{2}}}$"
     },
     "metadata": {},
     "execution_count": 4
    }
   ],
   "source": [
    "cone_dx"
   ]
  },
  {
   "source": [
    "Calculando-se a *área de superfície* por $\\sqrt{{fx^2}+{fy^2}+1}$, tem-se:"
   ],
   "cell_type": "markdown",
   "metadata": {}
  },
  {
   "cell_type": "code",
   "execution_count": 5,
   "metadata": {},
   "outputs": [
    {
     "output_type": "execute_result",
     "data": {
      "text/plain": [
       "sqrt(36*x**2/(6*x**2 + 6*y**2) + 36*y**2/(6*x**2 + 6*y**2) + 1)"
      ],
      "text/latex": "$\\displaystyle \\sqrt{\\frac{36 x^{2}}{6 x^{2} + 6 y^{2}} + \\frac{36 y^{2}}{6 x^{2} + 6 y^{2}} + 1}$"
     },
     "metadata": {},
     "execution_count": 5
    }
   ],
   "source": [
    "def area_sup(fx,fy):\n",
    "    return sqrt(((fx)**2) + ((fy)**2) + 1)\n",
    "ans = area_sup(cone_dx,cone_dy)\n",
    "ans"
   ]
  },
  {
   "source": [
    "Deixando em evidência ${x^2+y^2}$ nas duas frações, tem-se $\\sqrt{\\frac{36(x^2 + y^2)}{6(x^2 + y^2)}\\ + 1}$. \n",
    "Simplificando esta fração, tem-se:"
   ],
   "cell_type": "markdown",
   "metadata": {}
  },
  {
   "cell_type": "code",
   "execution_count": 6,
   "metadata": {},
   "outputs": [
    {
     "output_type": "execute_result",
     "data": {
      "text/plain": [
       "sqrt(7)"
      ],
      "text/latex": "$\\displaystyle \\sqrt{7}$"
     },
     "metadata": {},
     "execution_count": 6
    }
   ],
   "source": [
    "simp = simplify(ans)\n",
    "simp"
   ]
  },
  {
   "source": [
    "Por fim, calcula-se a integral dupla $2\\int_{\\pi}^{\\pi/2}\\int_{0}^{2cos{\\phi}}{\\sqrt7}\\,dr \\,d\\theta$."
   ],
   "cell_type": "markdown",
   "metadata": {}
  },
  {
   "cell_type": "code",
   "execution_count": 7,
   "metadata": {},
   "outputs": [
    {
     "output_type": "execute_result",
     "data": {
      "text/plain": [
       "3.14159265358979*sqrt(7)"
      ],
      "text/latex": "$\\displaystyle 3.14159265358979 \\sqrt{7}$"
     },
     "metadata": {},
     "execution_count": 7
    }
   ],
   "source": [
    "ans = integrate( ((simp) * rho), (rho, 0, 2 * cos(phi)) )\n",
    "ans_2 = 2*integrate( ans , (phi, pi / 2, pi) )\n",
    "ans_2"
   ]
  },
  {
   "source": [
    "Portanto, a área de superfície do cone acima da circunferência é $\\pi\\sqrt{7}$."
   ],
   "cell_type": "markdown",
   "metadata": {}
  },
  {
   "cell_type": "code",
   "execution_count": null,
   "metadata": {},
   "outputs": [],
   "source": []
  }
 ]
}