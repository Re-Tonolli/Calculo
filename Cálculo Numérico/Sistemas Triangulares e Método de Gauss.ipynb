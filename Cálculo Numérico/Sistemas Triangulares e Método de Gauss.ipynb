{
 "metadata": {
  "language_info": {
   "codemirror_mode": {
    "name": "ipython",
    "version": 3
   },
   "file_extension": ".py",
   "mimetype": "text/x-python",
   "name": "python",
   "nbconvert_exporter": "python",
   "pygments_lexer": "ipython3",
   "version": "3.6.9"
  },
  "orig_nbformat": 2,
  "kernelspec": {
   "name": "python369jvsc74a57bd031f2aee4e71d21fbe5cf8b01ff0e069b9275f58929596ceb00d14d90e3e16cd6",
   "display_name": "Python 3.6.9 64-bit"
  },
  "metadata": {
   "interpreter": {
    "hash": "31f2aee4e71d21fbe5cf8b01ff0e069b9275f58929596ceb00d14d90e3e16cd6"
   }
  }
 },
 "nbformat": 4,
 "nbformat_minor": 2,
 "cells": [
  {
   "cell_type": "code",
   "execution_count": 17,
   "metadata": {},
   "outputs": [],
   "source": [
    "import numpy as np\n",
    "import math\n",
    "import matplotlib.pyplot as mpl\n",
    "from sympy import *\n",
    "x1, x2, x3, x4, x5 = symbols('x1, x2, x3, x4, x5')\n"
   ]
  },
  {
   "cell_type": "code",
   "execution_count": 20,
   "metadata": {},
   "outputs": [
    {
     "output_type": "execute_result",
     "data": {
      "text/plain": [
       "Matrix([\n",
       "[1, 1, 1, 0,  2],\n",
       "[0, 1, 2, 1,  1],\n",
       "[0, 0, 1, 2,  1],\n",
       "[0, 0, 0, 2,  1],\n",
       "[0, 0, 0, 0, 10]])"
      ],
      "text/latex": "$\\displaystyle \\left[\\begin{matrix}1 & 1 & 1 & 0 & 2\\\\0 & 1 & 2 & 1 & 1\\\\0 & 0 & 1 & 2 & 1\\\\0 & 0 & 0 & 2 & 1\\\\0 & 0 & 0 & 0 & 10\\end{matrix}\\right]$"
     },
     "metadata": {},
     "execution_count": 20
    }
   ],
   "source": [
    "linha_1 = [1, 1, 1, 0, 2]\n",
    "linha_2 = [0, 1, 2, 1, 1]\n",
    "linha_3 = [0, 0, 1, 2, 1]\n",
    "linha_4 = [0, 0, 0, 2, 1]\n",
    "linha_5 = [0, 0, 0, 0, 10]\n",
    "\n",
    "matriz = Matrix([linha_1, linha_2, linha_3, linha_4, linha_5])\n",
    "matriz"
   ]
  },
  {
   "cell_type": "code",
   "execution_count": 19,
   "metadata": {},
   "outputs": [
    {
     "output_type": "execute_result",
     "data": {
      "text/plain": [
       "Matrix([\n",
       "[x1],\n",
       "[x2],\n",
       "[x3],\n",
       "[x4],\n",
       "[x5]])"
      ],
      "text/latex": "$\\displaystyle \\left[\\begin{matrix}x_{1}\\\\x_{2}\\\\x_{3}\\\\x_{4}\\\\x_{5}\\end{matrix}\\right]$"
     },
     "metadata": {},
     "execution_count": 19
    }
   ],
   "source": [
    "linha_x = Matrix([[x1],[x2],[x3],[x4],[x5]])\n",
    "linha_x"
   ]
  },
  {
   "cell_type": "code",
   "execution_count": 21,
   "metadata": {},
   "outputs": [
    {
     "output_type": "execute_result",
     "data": {
      "text/plain": [
       "Matrix([\n",
       "[  1],\n",
       "[  2],\n",
       "[ -2],\n",
       "[ -4],\n",
       "[-20]])"
      ],
      "text/latex": "$\\displaystyle \\left[\\begin{matrix}1\\\\2\\\\-2\\\\-4\\\\-20\\end{matrix}\\right]$"
     },
     "metadata": {},
     "execution_count": 21
    }
   ],
   "source": [
    "linha_r = Matrix([[1],[2],[-2],[-4],[-20]])\n",
    "linha_r"
   ]
  },
  {
   "cell_type": "code",
   "execution_count": 26,
   "metadata": {},
   "outputs": [
    {
     "output_type": "execute_result",
     "data": {
      "text/plain": [
       "{x1: 2, x2: 1, x3: 2, x4: -1, x5: -2}"
      ]
     },
     "metadata": {},
     "execution_count": 26
    }
   ],
   "source": [
    "solve(Eq(matriz * linha_x , linha_r), [x1, x2, x3, x4, x5])"
   ]
  },
  {
   "cell_type": "code",
   "execution_count": 27,
   "metadata": {},
   "outputs": [
    {
     "output_type": "execute_result",
     "data": {
      "text/plain": [
       "Matrix([\n",
       "[2, 1, 3, 4],\n",
       "[1, 4, 2, 1],\n",
       "[3, 2, 1, 4],\n",
       "[2, 2, 3, 1]])"
      ],
      "text/latex": "$\\displaystyle \\left[\\begin{matrix}2 & 1 & 3 & 4\\\\1 & 4 & 2 & 1\\\\3 & 2 & 1 & 4\\\\2 & 2 & 3 & 1\\end{matrix}\\right]$"
     },
     "metadata": {},
     "execution_count": 27
    }
   ],
   "source": [
    "linha_1 = [2, 1, 3, 4]\n",
    "linha_2 = [1, 4, 2, 1]\n",
    "linha_3 = [3, 2, 1, 4]\n",
    "linha_4 = [2, 2, 3, 1]\n",
    "\n",
    "matriz = Matrix([linha_1, linha_2, linha_3, linha_4])\n",
    "matriz"
   ]
  },
  {
   "cell_type": "code",
   "execution_count": 30,
   "metadata": {},
   "outputs": [
    {
     "output_type": "execute_result",
     "data": {
      "text/plain": [
       "Matrix([\n",
       "[x1],\n",
       "[x2],\n",
       "[x3],\n",
       "[x4]])"
      ],
      "text/latex": "$\\displaystyle \\left[\\begin{matrix}x_{1}\\\\x_{2}\\\\x_{3}\\\\x_{4}\\end{matrix}\\right]$"
     },
     "metadata": {},
     "execution_count": 30
    }
   ],
   "source": [
    "linha_x = Matrix([[x1],[x2],[x3],[x4]])\n",
    "linha_x"
   ]
  },
  {
   "cell_type": "code",
   "execution_count": 31,
   "metadata": {},
   "outputs": [
    {
     "output_type": "execute_result",
     "data": {
      "text/plain": [
       "Matrix([\n",
       "[16],\n",
       "[ 5],\n",
       "[11],\n",
       "[12]])"
      ],
      "text/latex": "$\\displaystyle \\left[\\begin{matrix}16\\\\5\\\\11\\\\12\\end{matrix}\\right]$"
     },
     "metadata": {},
     "execution_count": 31
    }
   ],
   "source": [
    "linha_r = Matrix([[16],[5],[11],[12]])\n",
    "linha_r"
   ]
  },
  {
   "cell_type": "code",
   "execution_count": 34,
   "metadata": {},
   "outputs": [
    {
     "output_type": "execute_result",
     "data": {
      "text/plain": [
       "Matrix([[2]])"
      ],
      "text/latex": "$\\displaystyle \\left[\\begin{matrix}2\\end{matrix}\\right]$"
     },
     "metadata": {},
     "execution_count": 34
    }
   ],
   "source": [
    "linha_1 = [2]\n",
    "\n",
    "matriz_A1 = Matrix([linha_1])\n",
    "matriz_A1"
   ]
  },
  {
   "cell_type": "code",
   "execution_count": 33,
   "metadata": {},
   "outputs": [
    {
     "output_type": "execute_result",
     "data": {
      "text/plain": [
       "2"
      ],
      "text/latex": "$\\displaystyle 2$"
     },
     "metadata": {},
     "execution_count": 33
    }
   ],
   "source": [
    "matriz_A1.det()"
   ]
  },
  {
   "cell_type": "code",
   "execution_count": 36,
   "metadata": {},
   "outputs": [
    {
     "output_type": "execute_result",
     "data": {
      "text/plain": [
       "Matrix([\n",
       "[2, 1],\n",
       "[1, 4]])"
      ],
      "text/latex": "$\\displaystyle \\left[\\begin{matrix}2 & 1\\\\1 & 4\\end{matrix}\\right]$"
     },
     "metadata": {},
     "execution_count": 36
    }
   ],
   "source": [
    "linha_1 = [2, 1]\n",
    "linha_2 = [1, 4]\n",
    "\n",
    "matriz_A2 = Matrix([linha_1, linha_2])\n",
    "matriz_A2"
   ]
  },
  {
   "cell_type": "code",
   "execution_count": 37,
   "metadata": {},
   "outputs": [
    {
     "output_type": "execute_result",
     "data": {
      "text/plain": [
       "7"
      ],
      "text/latex": "$\\displaystyle 7$"
     },
     "metadata": {},
     "execution_count": 37
    }
   ],
   "source": [
    "matriz_A2.det()"
   ]
  },
  {
   "cell_type": "code",
   "execution_count": 38,
   "metadata": {},
   "outputs": [
    {
     "output_type": "execute_result",
     "data": {
      "text/plain": [
       "Matrix([\n",
       "[2, 1, 3],\n",
       "[1, 4, 2],\n",
       "[3, 2, 1]])"
      ],
      "text/latex": "$\\displaystyle \\left[\\begin{matrix}2 & 1 & 3\\\\1 & 4 & 2\\\\3 & 2 & 1\\end{matrix}\\right]$"
     },
     "metadata": {},
     "execution_count": 38
    }
   ],
   "source": [
    "linha_1 = [2, 1, 3]\n",
    "linha_2 = [1, 4, 2]\n",
    "linha_3 = [3, 2, 1]\n",
    "\n",
    "matriz_A3 = Matrix([linha_1, linha_2, linha_3])\n",
    "matriz_A3"
   ]
  },
  {
   "cell_type": "code",
   "execution_count": 39,
   "metadata": {},
   "outputs": [
    {
     "output_type": "execute_result",
     "data": {
      "text/plain": [
       "-25"
      ],
      "text/latex": "$\\displaystyle -25$"
     },
     "metadata": {},
     "execution_count": 39
    }
   ],
   "source": [
    "matriz_A3.det()"
   ]
  },
  {
   "cell_type": "code",
   "execution_count": 52,
   "metadata": {},
   "outputs": [],
   "source": [
    "linha_1 = np.array([2, 1, 3, 4])\n",
    "linha_2 = np.array([1, 4, 2, 1])\n",
    "linha_3 = np.array([3, 2, 1, 4])\n",
    "linha_4 = np.array([2, 2, 3, 1])"
   ]
  },
  {
   "cell_type": "code",
   "execution_count": 64,
   "metadata": {},
   "outputs": [
    {
     "output_type": "execute_result",
     "data": {
      "text/plain": [
       "array([ 0.,  1.,  0., -3.])"
      ]
     },
     "metadata": {},
     "execution_count": 64
    }
   ],
   "source": [
    "m21 = linha_2[0] / linha_1[0]\n",
    "linha_2 = linha_2 - m21 * linha_1\n",
    "linha_2\n",
    "\n",
    "m31 = linha_3[0] / linha_1[0]\n",
    "linha_3 = linha_3 - m31 * linha_1\n",
    "linha_3\n",
    "\n",
    "m41 = linha_4[0] / linha_1[0]\n",
    "linha_4 = linha_4 - m41 * linha_1\n",
    "linha_4"
   ]
  },
  {
   "cell_type": "code",
   "execution_count": 71,
   "metadata": {},
   "outputs": [
    {
     "output_type": "execute_result",
     "data": {
      "text/plain": [
       "[array([2, 1, 3, 4]),\n",
       " array([ 0. ,  3.5,  0.5, -1. ]),\n",
       " array([ 0. ,  3.5,  0.5, -1. ]),\n",
       " array([ 0.,  1.,  0., -3.])]"
      ]
     },
     "metadata": {},
     "execution_count": 71
    }
   ],
   "source": [
    "def eliminacao(item, index, linha_pivo):\n",
    "    return item - (item[index] / linha_pivo[index]) * linha_pivo\n",
    "    \n",
    "matrix = [linha_1, linha_2, linha_3, linha_4]\n",
    "\n",
    "for index_pivo, linha in enumerate(matrix):\n",
    "    linha = eliminacao(linha, index_pivo, matrix[index_pivo])\n",
    "\n",
    "matrix"
   ]
  },
  {
   "cell_type": "code",
   "execution_count": null,
   "metadata": {},
   "outputs": [],
   "source": []
  }
 ]
}