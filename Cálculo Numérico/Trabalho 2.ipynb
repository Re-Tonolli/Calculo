{
 "metadata": {
  "language_info": {
   "codemirror_mode": {
    "name": "ipython",
    "version": 3
   },
   "file_extension": ".py",
   "mimetype": "text/x-python",
   "name": "python",
   "nbconvert_exporter": "python",
   "pygments_lexer": "ipython3",
   "version": "3.6.9"
  },
  "orig_nbformat": 2,
  "kernelspec": {
   "name": "python3",
   "display_name": "Python 3.6.9 64-bit"
  },
  "metadata": {
   "interpreter": {
    "hash": "31f2aee4e71d21fbe5cf8b01ff0e069b9275f58929596ceb00d14d90e3e16cd6"
   }
  },
  "interpreter": {
   "hash": "31f2aee4e71d21fbe5cf8b01ff0e069b9275f58929596ceb00d14d90e3e16cd6"
  }
 },
 "nbformat": 4,
 "nbformat_minor": 2,
 "cells": [
  {
   "source": [
    "Autor: Renan Tonolli Mondini - RA: 191010324 <br><hr>\n",
    "# Trabalho 2"
   ],
   "cell_type": "markdown",
   "metadata": {}
  },
  {
   "source": [
    "Importando as bibliotecas:"
   ],
   "cell_type": "markdown",
   "metadata": {}
  },
  {
   "cell_type": "code",
   "execution_count": 208,
   "metadata": {},
   "outputs": [],
   "source": [
    "import math\n",
    "import numpy as np\n",
    "import sympy\n",
    "from sympy import *\n",
    "from sympy.solvers import solve\n",
    "import pandas as pd\n",
    "import seaborn as sns\n",
    "from matplotlib import pyplot as plt\n",
    "from IPython.display import HTML\n",
    "from IPython.display import Markdown as md\n",
    "x = sympy.symbols('x')"
   ]
  },
  {
   "source": [
    "##"
   ],
   "cell_type": "markdown",
   "metadata": {}
  },
  {
   "source": [
    "Definindo as funções e plotando a intersecção de $y = cos(x)$ e $y = x^2 -6$"
   ],
   "cell_type": "markdown",
   "metadata": {}
  },
  {
   "cell_type": "code",
   "execution_count": 209,
   "metadata": {},
   "outputs": [],
   "source": [
    "def f1(x):\n",
    "    return sympy.cos(x)\n",
    "def f2(x):\n",
    "    return x**2 - 6\n",
    "def f(x):\n",
    "    return sympy.cos(x) - x**2 + 6 "
   ]
  },
  {
   "cell_type": "code",
   "execution_count": 210,
   "metadata": {},
   "outputs": [
    {
     "output_type": "display_data",
     "data": {
      "text/plain": "<Figure size 432x288 with 1 Axes>",
      "image/svg+xml": "<?xml version=\"1.0\" encoding=\"utf-8\" standalone=\"no\"?>\n<!DOCTYPE svg PUBLIC \"-//W3C//DTD SVG 1.1//EN\"\n  \"http://www.w3.org/Graphics/SVG/1.1/DTD/svg11.dtd\">\n<!-- Created with matplotlib (https://matplotlib.org/) -->\n<svg height=\"285.421094pt\" version=\"1.1\" viewBox=\"0 0 424.914844 285.421094\" width=\"424.914844pt\" xmlns=\"http://www.w3.org/2000/svg\" xmlns:xlink=\"http://www.w3.org/1999/xlink\">\n <metadata>\n  <rdf:RDF xmlns:cc=\"http://creativecommons.org/ns#\" xmlns:dc=\"http://purl.org/dc/elements/1.1/\" xmlns:rdf=\"http://www.w3.org/1999/02/22-rdf-syntax-ns#\">\n   <cc:Work>\n    <dc:type rdf:resource=\"http://purl.org/dc/dcmitype/StillImage\"/>\n    <dc:date>2021-06-23T16:47:40.487429</dc:date>\n    <dc:format>image/svg+xml</dc:format>\n    <dc:creator>\n     <cc:Agent>\n      <dc:title>Matplotlib v3.3.4, https://matplotlib.org/</dc:title>\n     </cc:Agent>\n    </dc:creator>\n   </cc:Work>\n  </rdf:RDF>\n </metadata>\n <defs>\n  <style type=\"text/css\">*{stroke-linecap:butt;stroke-linejoin:round;}</style>\n </defs>\n <g id=\"figure_1\">\n  <g id=\"patch_1\">\n   <path d=\"M 0 285.421094 \nL 424.914844 285.421094 \nL 424.914844 0 \nL 0 0 \nz\n\" style=\"fill:none;\"/>\n  </g>\n  <g id=\"axes_1\">\n   <g id=\"patch_2\">\n    <path d=\"M 14.571094 278.221094 \nL 414.533594 278.221094 \nL 414.533594 15.821094 \nL 14.571094 15.821094 \nz\n\" style=\"fill:#ffffff;\"/>\n   </g>\n   <g id=\"matplotlib.axis_1\">\n    <g id=\"xtick_1\">\n     <g id=\"line2d_1\">\n      <defs>\n       <path d=\"M 0 0 \nL 0 3.5 \n\" id=\"mbdd1a60903\" style=\"stroke:#000000;stroke-width:0.8;\"/>\n      </defs>\n      <g>\n       <use style=\"stroke:#000000;stroke-width:0.8;\" x=\"14.571094\" xlink:href=\"#mbdd1a60903\" y=\"111.239276\"/>\n      </g>\n     </g>\n     <g id=\"text_1\">\n      <!-- −4 -->\n      <g transform=\"translate(7.2 125.837713)scale(0.1 -0.1)\">\n       <defs>\n        <path d=\"M 10.59375 35.5 \nL 73.1875 35.5 \nL 73.1875 27.203125 \nL 10.59375 27.203125 \nz\n\" id=\"DejaVuSans-8722\"/>\n        <path d=\"M 37.796875 64.3125 \nL 12.890625 25.390625 \nL 37.796875 25.390625 \nz\nM 35.203125 72.90625 \nL 47.609375 72.90625 \nL 47.609375 25.390625 \nL 58.015625 25.390625 \nL 58.015625 17.1875 \nL 47.609375 17.1875 \nL 47.609375 0 \nL 37.796875 0 \nL 37.796875 17.1875 \nL 4.890625 17.1875 \nL 4.890625 26.703125 \nz\n\" id=\"DejaVuSans-52\"/>\n       </defs>\n       <use xlink:href=\"#DejaVuSans-8722\"/>\n       <use x=\"83.789062\" xlink:href=\"#DejaVuSans-52\"/>\n      </g>\n     </g>\n    </g>\n    <g id=\"xtick_2\">\n     <g id=\"line2d_2\">\n      <g>\n       <use style=\"stroke:#000000;stroke-width:0.8;\" x=\"64.566406\" xlink:href=\"#mbdd1a60903\" y=\"111.239276\"/>\n      </g>\n     </g>\n     <g id=\"text_2\">\n      <!-- −3 -->\n      <g transform=\"translate(57.195312 125.837713)scale(0.1 -0.1)\">\n       <defs>\n        <path d=\"M 40.578125 39.3125 \nQ 47.65625 37.796875 51.625 33 \nQ 55.609375 28.21875 55.609375 21.1875 \nQ 55.609375 10.40625 48.1875 4.484375 \nQ 40.765625 -1.421875 27.09375 -1.421875 \nQ 22.515625 -1.421875 17.65625 -0.515625 \nQ 12.796875 0.390625 7.625 2.203125 \nL 7.625 11.71875 \nQ 11.71875 9.328125 16.59375 8.109375 \nQ 21.484375 6.890625 26.8125 6.890625 \nQ 36.078125 6.890625 40.9375 10.546875 \nQ 45.796875 14.203125 45.796875 21.1875 \nQ 45.796875 27.640625 41.28125 31.265625 \nQ 36.765625 34.90625 28.71875 34.90625 \nL 20.21875 34.90625 \nL 20.21875 43.015625 \nL 29.109375 43.015625 \nQ 36.375 43.015625 40.234375 45.921875 \nQ 44.09375 48.828125 44.09375 54.296875 \nQ 44.09375 59.90625 40.109375 62.90625 \nQ 36.140625 65.921875 28.71875 65.921875 \nQ 24.65625 65.921875 20.015625 65.03125 \nQ 15.375 64.15625 9.8125 62.3125 \nL 9.8125 71.09375 \nQ 15.4375 72.65625 20.34375 73.4375 \nQ 25.25 74.21875 29.59375 74.21875 \nQ 40.828125 74.21875 47.359375 69.109375 \nQ 53.90625 64.015625 53.90625 55.328125 \nQ 53.90625 49.265625 50.4375 45.09375 \nQ 46.96875 40.921875 40.578125 39.3125 \nz\n\" id=\"DejaVuSans-51\"/>\n       </defs>\n       <use xlink:href=\"#DejaVuSans-8722\"/>\n       <use x=\"83.789062\" xlink:href=\"#DejaVuSans-51\"/>\n      </g>\n     </g>\n    </g>\n    <g id=\"xtick_3\">\n     <g id=\"line2d_3\">\n      <g>\n       <use style=\"stroke:#000000;stroke-width:0.8;\" x=\"114.561719\" xlink:href=\"#mbdd1a60903\" y=\"111.239276\"/>\n      </g>\n     </g>\n     <g id=\"text_3\">\n      <!-- −2 -->\n      <g transform=\"translate(107.190625 125.837713)scale(0.1 -0.1)\">\n       <defs>\n        <path d=\"M 19.1875 8.296875 \nL 53.609375 8.296875 \nL 53.609375 0 \nL 7.328125 0 \nL 7.328125 8.296875 \nQ 12.9375 14.109375 22.625 23.890625 \nQ 32.328125 33.6875 34.8125 36.53125 \nQ 39.546875 41.84375 41.421875 45.53125 \nQ 43.3125 49.21875 43.3125 52.78125 \nQ 43.3125 58.59375 39.234375 62.25 \nQ 35.15625 65.921875 28.609375 65.921875 \nQ 23.96875 65.921875 18.8125 64.3125 \nQ 13.671875 62.703125 7.8125 59.421875 \nL 7.8125 69.390625 \nQ 13.765625 71.78125 18.9375 73 \nQ 24.125 74.21875 28.421875 74.21875 \nQ 39.75 74.21875 46.484375 68.546875 \nQ 53.21875 62.890625 53.21875 53.421875 \nQ 53.21875 48.921875 51.53125 44.890625 \nQ 49.859375 40.875 45.40625 35.40625 \nQ 44.1875 33.984375 37.640625 27.21875 \nQ 31.109375 20.453125 19.1875 8.296875 \nz\n\" id=\"DejaVuSans-50\"/>\n       </defs>\n       <use xlink:href=\"#DejaVuSans-8722\"/>\n       <use x=\"83.789062\" xlink:href=\"#DejaVuSans-50\"/>\n      </g>\n     </g>\n    </g>\n    <g id=\"xtick_4\">\n     <g id=\"line2d_4\">\n      <g>\n       <use style=\"stroke:#000000;stroke-width:0.8;\" x=\"164.557031\" xlink:href=\"#mbdd1a60903\" y=\"111.239276\"/>\n      </g>\n     </g>\n     <g id=\"text_4\">\n      <!-- −1 -->\n      <g transform=\"translate(157.185937 125.837713)scale(0.1 -0.1)\">\n       <defs>\n        <path d=\"M 12.40625 8.296875 \nL 28.515625 8.296875 \nL 28.515625 63.921875 \nL 10.984375 60.40625 \nL 10.984375 69.390625 \nL 28.421875 72.90625 \nL 38.28125 72.90625 \nL 38.28125 8.296875 \nL 54.390625 8.296875 \nL 54.390625 0 \nL 12.40625 0 \nz\n\" id=\"DejaVuSans-49\"/>\n       </defs>\n       <use xlink:href=\"#DejaVuSans-8722\"/>\n       <use x=\"83.789062\" xlink:href=\"#DejaVuSans-49\"/>\n      </g>\n     </g>\n    </g>\n    <g id=\"xtick_5\">\n     <g id=\"line2d_5\">\n      <g>\n       <use style=\"stroke:#000000;stroke-width:0.8;\" x=\"214.552344\" xlink:href=\"#mbdd1a60903\" y=\"111.239276\"/>\n      </g>\n     </g>\n     <g id=\"text_5\">\n      <!-- 0 -->\n      <g transform=\"translate(211.371094 125.837713)scale(0.1 -0.1)\">\n       <defs>\n        <path d=\"M 31.78125 66.40625 \nQ 24.171875 66.40625 20.328125 58.90625 \nQ 16.5 51.421875 16.5 36.375 \nQ 16.5 21.390625 20.328125 13.890625 \nQ 24.171875 6.390625 31.78125 6.390625 \nQ 39.453125 6.390625 43.28125 13.890625 \nQ 47.125 21.390625 47.125 36.375 \nQ 47.125 51.421875 43.28125 58.90625 \nQ 39.453125 66.40625 31.78125 66.40625 \nz\nM 31.78125 74.21875 \nQ 44.046875 74.21875 50.515625 64.515625 \nQ 56.984375 54.828125 56.984375 36.375 \nQ 56.984375 17.96875 50.515625 8.265625 \nQ 44.046875 -1.421875 31.78125 -1.421875 \nQ 19.53125 -1.421875 13.0625 8.265625 \nQ 6.59375 17.96875 6.59375 36.375 \nQ 6.59375 54.828125 13.0625 64.515625 \nQ 19.53125 74.21875 31.78125 74.21875 \nz\n\" id=\"DejaVuSans-48\"/>\n       </defs>\n       <use xlink:href=\"#DejaVuSans-48\"/>\n      </g>\n     </g>\n    </g>\n    <g id=\"xtick_6\">\n     <g id=\"line2d_6\">\n      <g>\n       <use style=\"stroke:#000000;stroke-width:0.8;\" x=\"264.547656\" xlink:href=\"#mbdd1a60903\" y=\"111.239276\"/>\n      </g>\n     </g>\n     <g id=\"text_6\">\n      <!-- 1 -->\n      <g transform=\"translate(261.366406 125.837713)scale(0.1 -0.1)\">\n       <use xlink:href=\"#DejaVuSans-49\"/>\n      </g>\n     </g>\n    </g>\n    <g id=\"xtick_7\">\n     <g id=\"line2d_7\">\n      <g>\n       <use style=\"stroke:#000000;stroke-width:0.8;\" x=\"314.542969\" xlink:href=\"#mbdd1a60903\" y=\"111.239276\"/>\n      </g>\n     </g>\n     <g id=\"text_7\">\n      <!-- 2 -->\n      <g transform=\"translate(311.361719 125.837713)scale(0.1 -0.1)\">\n       <use xlink:href=\"#DejaVuSans-50\"/>\n      </g>\n     </g>\n    </g>\n    <g id=\"xtick_8\">\n     <g id=\"line2d_8\">\n      <g>\n       <use style=\"stroke:#000000;stroke-width:0.8;\" x=\"364.538281\" xlink:href=\"#mbdd1a60903\" y=\"111.239276\"/>\n      </g>\n     </g>\n     <g id=\"text_8\">\n      <!-- 3 -->\n      <g transform=\"translate(361.357031 125.837713)scale(0.1 -0.1)\">\n       <use xlink:href=\"#DejaVuSans-51\"/>\n      </g>\n     </g>\n    </g>\n    <g id=\"xtick_9\">\n     <g id=\"line2d_9\">\n      <g>\n       <use style=\"stroke:#000000;stroke-width:0.8;\" x=\"414.533594\" xlink:href=\"#mbdd1a60903\" y=\"111.239276\"/>\n      </g>\n     </g>\n     <g id=\"text_9\">\n      <!-- 4 -->\n      <g transform=\"translate(411.352344 125.837713)scale(0.1 -0.1)\">\n       <use xlink:href=\"#DejaVuSans-52\"/>\n      </g>\n     </g>\n    </g>\n    <g id=\"text_10\">\n     <!-- x -->\n     <g transform=\"translate(411.574219 139.515838)scale(0.1 -0.1)\">\n      <defs>\n       <path d=\"M 54.890625 54.6875 \nL 35.109375 28.078125 \nL 55.90625 0 \nL 45.3125 0 \nL 29.390625 21.484375 \nL 13.484375 0 \nL 2.875 0 \nL 24.125 28.609375 \nL 4.6875 54.6875 \nL 15.28125 54.6875 \nL 29.78125 35.203125 \nL 44.28125 54.6875 \nz\n\" id=\"DejaVuSans-120\"/>\n      </defs>\n      <use xlink:href=\"#DejaVuSans-120\"/>\n     </g>\n    </g>\n   </g>\n   <g id=\"matplotlib.axis_2\">\n    <g id=\"ytick_1\">\n     <g id=\"line2d_10\">\n      <defs>\n       <path d=\"M 0 0 \nL -3.5 0 \n\" id=\"m06b4be5169\" style=\"stroke:#000000;stroke-width:0.8;\"/>\n      </defs>\n      <g>\n       <use style=\"stroke:#000000;stroke-width:0.8;\" x=\"214.552344\" xlink:href=\"#m06b4be5169\" y=\"254.366548\"/>\n      </g>\n     </g>\n     <g id=\"text_11\">\n      <!-- −6 -->\n      <g transform=\"translate(192.810156 258.165767)scale(0.1 -0.1)\">\n       <defs>\n        <path d=\"M 33.015625 40.375 \nQ 26.375 40.375 22.484375 35.828125 \nQ 18.609375 31.296875 18.609375 23.390625 \nQ 18.609375 15.53125 22.484375 10.953125 \nQ 26.375 6.390625 33.015625 6.390625 \nQ 39.65625 6.390625 43.53125 10.953125 \nQ 47.40625 15.53125 47.40625 23.390625 \nQ 47.40625 31.296875 43.53125 35.828125 \nQ 39.65625 40.375 33.015625 40.375 \nz\nM 52.59375 71.296875 \nL 52.59375 62.3125 \nQ 48.875 64.0625 45.09375 64.984375 \nQ 41.3125 65.921875 37.59375 65.921875 \nQ 27.828125 65.921875 22.671875 59.328125 \nQ 17.53125 52.734375 16.796875 39.40625 \nQ 19.671875 43.65625 24.015625 45.921875 \nQ 28.375 48.1875 33.59375 48.1875 \nQ 44.578125 48.1875 50.953125 41.515625 \nQ 57.328125 34.859375 57.328125 23.390625 \nQ 57.328125 12.15625 50.6875 5.359375 \nQ 44.046875 -1.421875 33.015625 -1.421875 \nQ 20.359375 -1.421875 13.671875 8.265625 \nQ 6.984375 17.96875 6.984375 36.375 \nQ 6.984375 53.65625 15.1875 63.9375 \nQ 23.390625 74.21875 37.203125 74.21875 \nQ 40.921875 74.21875 44.703125 73.484375 \nQ 48.484375 72.75 52.59375 71.296875 \nz\n\" id=\"DejaVuSans-54\"/>\n       </defs>\n       <use xlink:href=\"#DejaVuSans-8722\"/>\n       <use x=\"83.789062\" xlink:href=\"#DejaVuSans-54\"/>\n      </g>\n     </g>\n    </g>\n    <g id=\"ytick_2\">\n     <g id=\"line2d_11\">\n      <g>\n       <use style=\"stroke:#000000;stroke-width:0.8;\" x=\"214.552344\" xlink:href=\"#m06b4be5169\" y=\"206.657457\"/>\n      </g>\n     </g>\n     <g id=\"text_12\">\n      <!-- −4 -->\n      <g transform=\"translate(192.810156 210.456676)scale(0.1 -0.1)\">\n       <use xlink:href=\"#DejaVuSans-8722\"/>\n       <use x=\"83.789062\" xlink:href=\"#DejaVuSans-52\"/>\n      </g>\n     </g>\n    </g>\n    <g id=\"ytick_3\">\n     <g id=\"line2d_12\">\n      <g>\n       <use style=\"stroke:#000000;stroke-width:0.8;\" x=\"214.552344\" xlink:href=\"#m06b4be5169\" y=\"158.948366\"/>\n      </g>\n     </g>\n     <g id=\"text_13\">\n      <!-- −2 -->\n      <g transform=\"translate(192.810156 162.747585)scale(0.1 -0.1)\">\n       <use xlink:href=\"#DejaVuSans-8722\"/>\n       <use x=\"83.789062\" xlink:href=\"#DejaVuSans-50\"/>\n      </g>\n     </g>\n    </g>\n    <g id=\"ytick_4\">\n     <g id=\"line2d_13\">\n      <g>\n       <use style=\"stroke:#000000;stroke-width:0.8;\" x=\"214.552344\" xlink:href=\"#m06b4be5169\" y=\"111.239276\"/>\n      </g>\n     </g>\n     <g id=\"text_14\">\n      <!-- 0 -->\n      <g transform=\"translate(201.189844 115.038494)scale(0.1 -0.1)\">\n       <use xlink:href=\"#DejaVuSans-48\"/>\n      </g>\n     </g>\n    </g>\n    <g id=\"ytick_5\">\n     <g id=\"line2d_14\">\n      <g>\n       <use style=\"stroke:#000000;stroke-width:0.8;\" x=\"214.552344\" xlink:href=\"#m06b4be5169\" y=\"63.530185\"/>\n      </g>\n     </g>\n     <g id=\"text_15\">\n      <!-- 2 -->\n      <g transform=\"translate(201.189844 67.329403)scale(0.1 -0.1)\">\n       <use xlink:href=\"#DejaVuSans-50\"/>\n      </g>\n     </g>\n    </g>\n    <g id=\"ytick_6\">\n     <g id=\"line2d_15\">\n      <g>\n       <use style=\"stroke:#000000;stroke-width:0.8;\" x=\"214.552344\" xlink:href=\"#m06b4be5169\" y=\"15.821094\"/>\n      </g>\n     </g>\n     <g id=\"text_16\">\n      <!-- 4 -->\n      <g transform=\"translate(201.189844 19.620313)scale(0.1 -0.1)\">\n       <use xlink:href=\"#DejaVuSans-52\"/>\n      </g>\n     </g>\n    </g>\n    <g id=\"text_17\">\n     <!-- f(x) -->\n     <g transform=\"translate(186.730469 24.442187)rotate(-90)scale(0.1 -0.1)\">\n      <defs>\n       <path d=\"M 37.109375 75.984375 \nL 37.109375 68.5 \nL 28.515625 68.5 \nQ 23.6875 68.5 21.796875 66.546875 \nQ 19.921875 64.59375 19.921875 59.515625 \nL 19.921875 54.6875 \nL 34.71875 54.6875 \nL 34.71875 47.703125 \nL 19.921875 47.703125 \nL 19.921875 0 \nL 10.890625 0 \nL 10.890625 47.703125 \nL 2.296875 47.703125 \nL 2.296875 54.6875 \nL 10.890625 54.6875 \nL 10.890625 58.5 \nQ 10.890625 67.625 15.140625 71.796875 \nQ 19.390625 75.984375 28.609375 75.984375 \nz\n\" id=\"DejaVuSans-102\"/>\n       <path d=\"M 31 75.875 \nQ 24.46875 64.65625 21.28125 53.65625 \nQ 18.109375 42.671875 18.109375 31.390625 \nQ 18.109375 20.125 21.3125 9.0625 \nQ 24.515625 -2 31 -13.1875 \nL 23.1875 -13.1875 \nQ 15.875 -1.703125 12.234375 9.375 \nQ 8.59375 20.453125 8.59375 31.390625 \nQ 8.59375 42.28125 12.203125 53.3125 \nQ 15.828125 64.359375 23.1875 75.875 \nz\n\" id=\"DejaVuSans-40\"/>\n       <path d=\"M 8.015625 75.875 \nL 15.828125 75.875 \nQ 23.140625 64.359375 26.78125 53.3125 \nQ 30.421875 42.28125 30.421875 31.390625 \nQ 30.421875 20.453125 26.78125 9.375 \nQ 23.140625 -1.703125 15.828125 -13.1875 \nL 8.015625 -13.1875 \nQ 14.5 -2 17.703125 9.0625 \nQ 20.90625 20.125 20.90625 31.390625 \nQ 20.90625 42.671875 17.703125 53.65625 \nQ 14.5 64.65625 8.015625 75.875 \nz\n\" id=\"DejaVuSans-41\"/>\n      </defs>\n      <use xlink:href=\"#DejaVuSans-102\"/>\n      <use x=\"35.205078\" xlink:href=\"#DejaVuSans-40\"/>\n      <use x=\"74.21875\" xlink:href=\"#DejaVuSans-120\"/>\n      <use x=\"133.398438\" xlink:href=\"#DejaVuSans-41\"/>\n     </g>\n    </g>\n   </g>\n   <g id=\"LineCollection_1\">\n    <path clip-path=\"url(#p6d84447b39)\" style=\"fill:none;stroke:#1f77b4;stroke-width:1.5;\"/>\n    <path clip-path=\"url(#p6d84447b39)\" style=\"fill:none;stroke:#1f77b4;stroke-width:1.5;\"/>\n    <path clip-path=\"url(#p6d84447b39)\" style=\"fill:none;stroke:#1f77b4;stroke-width:1.5;\"/>\n    <path clip-path=\"url(#p6d84447b39)\" style=\"fill:none;stroke:#1f77b4;stroke-width:1.5;\"/>\n    <path clip-path=\"url(#p6d84447b39)\" style=\"fill:none;stroke:#1f77b4;stroke-width:1.5;\"/>\n    <path clip-path=\"url(#p6d84447b39)\" style=\"fill:none;stroke:#1f77b4;stroke-width:1.5;\"/>\n    <path clip-path=\"url(#p6d84447b39)\" style=\"fill:none;stroke:#1f77b4;stroke-width:1.5;\"/>\n    <path clip-path=\"url(#p6d84447b39)\" style=\"fill:none;stroke:#1f77b4;stroke-width:1.5;\"/>\n    <path clip-path=\"url(#p6d84447b39)\" style=\"fill:none;stroke:#1f77b4;stroke-width:1.5;\"/>\n    <path clip-path=\"url(#p6d84447b39)\" style=\"fill:none;stroke:#1f77b4;stroke-width:1.5;\"/>\n    <path clip-path=\"url(#p6d84447b39)\" style=\"fill:none;stroke:#1f77b4;stroke-width:1.5;\"/>\n    <path clip-path=\"url(#p6d84447b39)\" style=\"fill:none;stroke:#1f77b4;stroke-width:1.5;\"/>\n    <path clip-path=\"url(#p6d84447b39)\" style=\"fill:none;stroke:#1f77b4;stroke-width:1.5;\"/>\n    <path clip-path=\"url(#p6d84447b39)\" style=\"fill:none;stroke:#1f77b4;stroke-width:1.5;\"/>\n    <path clip-path=\"url(#p6d84447b39)\" style=\"fill:none;stroke:#1f77b4;stroke-width:1.5;\"/>\n    <path clip-path=\"url(#p6d84447b39)\" style=\"fill:none;stroke:#1f77b4;stroke-width:1.5;\"/>\n    <path clip-path=\"url(#p6d84447b39)\" style=\"fill:none;stroke:#1f77b4;stroke-width:1.5;\"/>\n    <path clip-path=\"url(#p6d84447b39)\" style=\"fill:none;stroke:#1f77b4;stroke-width:1.5;\"/>\n    <path clip-path=\"url(#p6d84447b39)\" style=\"fill:none;stroke:#1f77b4;stroke-width:1.5;\"/>\n    <path clip-path=\"url(#p6d84447b39)\" style=\"fill:none;stroke:#1f77b4;stroke-width:1.5;\"/>\n    <path clip-path=\"url(#p6d84447b39)\" style=\"fill:none;stroke:#1f77b4;stroke-width:1.5;\"/>\n    <path clip-path=\"url(#p6d84447b39)\" style=\"fill:none;stroke:#1f77b4;stroke-width:1.5;\"/>\n    <path clip-path=\"url(#p6d84447b39)\" style=\"fill:none;stroke:#1f77b4;stroke-width:1.5;\"/>\n    <path clip-path=\"url(#p6d84447b39)\" style=\"fill:none;stroke:#1f77b4;stroke-width:1.5;\"/>\n    <path clip-path=\"url(#p6d84447b39)\" style=\"fill:none;stroke:#1f77b4;stroke-width:1.5;\"/>\n    <path clip-path=\"url(#p6d84447b39)\" style=\"fill:none;stroke:#1f77b4;stroke-width:1.5;\"/>\n    <path clip-path=\"url(#p6d84447b39)\" style=\"fill:none;stroke:#1f77b4;stroke-width:1.5;\"/>\n    <path clip-path=\"url(#p6d84447b39)\" style=\"fill:none;stroke:#1f77b4;stroke-width:1.5;\"/>\n    <path clip-path=\"url(#p6d84447b39)\" style=\"fill:none;stroke:#1f77b4;stroke-width:1.5;\"/>\n    <path clip-path=\"url(#p6d84447b39)\" style=\"fill:none;stroke:#1f77b4;stroke-width:1.5;\"/>\n    <path clip-path=\"url(#p6d84447b39)\" style=\"fill:none;stroke:#1f77b4;stroke-width:1.5;\"/>\n    <path clip-path=\"url(#p6d84447b39)\" style=\"fill:none;stroke:#1f77b4;stroke-width:1.5;\"/>\n    <path clip-path=\"url(#p6d84447b39)\" style=\"fill:none;stroke:#1f77b4;stroke-width:1.5;\"/>\n    <path clip-path=\"url(#p6d84447b39)\" style=\"fill:none;stroke:#1f77b4;stroke-width:1.5;\"/>\n    <path clip-path=\"url(#p6d84447b39)\" style=\"fill:none;stroke:#1f77b4;stroke-width:1.5;\"/>\n    <path clip-path=\"url(#p6d84447b39)\" style=\"fill:none;stroke:#1f77b4;stroke-width:1.5;\"/>\n    <path clip-path=\"url(#p6d84447b39)\" style=\"fill:none;stroke:#1f77b4;stroke-width:1.5;\"/>\n    <path clip-path=\"url(#p6d84447b39)\" style=\"fill:none;stroke:#1f77b4;stroke-width:1.5;\"/>\n    <path clip-path=\"url(#p6d84447b39)\" style=\"fill:none;stroke:#1f77b4;stroke-width:1.5;\"/>\n    <path clip-path=\"url(#p6d84447b39)\" style=\"fill:none;stroke:#1f77b4;stroke-width:1.5;\"/>\n    <path clip-path=\"url(#p6d84447b39)\" style=\"fill:none;stroke:#1f77b4;stroke-width:1.5;\"/>\n    <path clip-path=\"url(#p6d84447b39)\" style=\"fill:none;stroke:#1f77b4;stroke-width:1.5;\"/>\n    <path clip-path=\"url(#p6d84447b39)\" style=\"fill:none;stroke:#1f77b4;stroke-width:1.5;\"/>\n    <path clip-path=\"url(#p6d84447b39)\" style=\"fill:none;stroke:#1f77b4;stroke-width:1.5;\"/>\n    <path clip-path=\"url(#p6d84447b39)\" style=\"fill:none;stroke:#1f77b4;stroke-width:1.5;\"/>\n    <path clip-path=\"url(#p6d84447b39)\" style=\"fill:none;stroke:#1f77b4;stroke-width:1.5;\"/>\n    <path clip-path=\"url(#p6d84447b39)\" style=\"fill:none;stroke:#1f77b4;stroke-width:1.5;\"/>\n    <path clip-path=\"url(#p6d84447b39)\" style=\"fill:none;stroke:#1f77b4;stroke-width:1.5;\"/>\n    <path clip-path=\"url(#p6d84447b39)\" d=\"M -1 120.546998 \nL 6.908743 123.892844 \n\" style=\"fill:none;stroke:#1f77b4;stroke-width:1.5;\"/>\n    <path clip-path=\"url(#p6d84447b39)\" d=\"M 6.908743 123.892844 \nL 14.797773 126.91334 \n\" style=\"fill:none;stroke:#1f77b4;stroke-width:1.5;\"/>\n    <path clip-path=\"url(#p6d84447b39)\" d=\"M 14.797773 126.91334 \nL 23.674476 129.842953 \n\" style=\"fill:none;stroke:#1f77b4;stroke-width:1.5;\"/>\n    <path clip-path=\"url(#p6d84447b39)\" d=\"M 23.674476 129.842953 \nL 28.132588 131.098705 \n\" style=\"fill:none;stroke:#1f77b4;stroke-width:1.5;\"/>\n    <path clip-path=\"url(#p6d84447b39)\" d=\"M 28.132588 131.098705 \nL 33.005306 132.290421 \n\" style=\"fill:none;stroke:#1f77b4;stroke-width:1.5;\"/>\n    <path clip-path=\"url(#p6d84447b39)\" d=\"M 33.005306 132.290421 \nL 36.685605 133.058601 \n\" style=\"fill:none;stroke:#1f77b4;stroke-width:1.5;\"/>\n    <path clip-path=\"url(#p6d84447b39)\" d=\"M 36.685605 133.058601 \nL 40.323662 133.701823 \n\" style=\"fill:none;stroke:#1f77b4;stroke-width:1.5;\"/>\n    <path clip-path=\"url(#p6d84447b39)\" d=\"M 40.323662 133.701823 \nL 43.731651 134.196574 \n\" style=\"fill:none;stroke:#1f77b4;stroke-width:1.5;\"/>\n    <path clip-path=\"url(#p6d84447b39)\" d=\"M 43.731651 134.196574 \nL 47.378019 134.6078 \n\" style=\"fill:none;stroke:#1f77b4;stroke-width:1.5;\"/>\n    <path clip-path=\"url(#p6d84447b39)\" d=\"M 47.378019 134.6078 \nL 50.620428 134.869156 \n\" style=\"fill:none;stroke:#1f77b4;stroke-width:1.5;\"/>\n    <path clip-path=\"url(#p6d84447b39)\" d=\"M 50.620428 134.869156 \nL 54.275775 135.044618 \n\" style=\"fill:none;stroke:#1f77b4;stroke-width:1.5;\"/>\n    <path clip-path=\"url(#p6d84447b39)\" d=\"M 54.275775 135.044618 \nL 57.77004 135.09344 \n\" style=\"fill:none;stroke:#1f77b4;stroke-width:1.5;\"/>\n    <path clip-path=\"url(#p6d84447b39)\" d=\"M 57.77004 135.09344 \nL 61.076714 135.032373 \n\" style=\"fill:none;stroke:#1f77b4;stroke-width:1.5;\"/>\n    <path clip-path=\"url(#p6d84447b39)\" d=\"M 61.076714 135.032373 \nL 64.263063 134.875087 \n\" style=\"fill:none;stroke:#1f77b4;stroke-width:1.5;\"/>\n    <path clip-path=\"url(#p6d84447b39)\" d=\"M 64.263063 134.875087 \nL 67.563622 134.61098 \n\" style=\"fill:none;stroke:#1f77b4;stroke-width:1.5;\"/>\n    <path clip-path=\"url(#p6d84447b39)\" d=\"M 67.563622 134.61098 \nL 71.167054 134.206421 \n\" style=\"fill:none;stroke:#1f77b4;stroke-width:1.5;\"/>\n    <path clip-path=\"url(#p6d84447b39)\" d=\"M 71.167054 134.206421 \nL 74.366574 133.747174 \n\" style=\"fill:none;stroke:#1f77b4;stroke-width:1.5;\"/>\n    <path clip-path=\"url(#p6d84447b39)\" d=\"M 74.366574 133.747174 \nL 77.353084 133.235305 \n\" style=\"fill:none;stroke:#1f77b4;stroke-width:1.5;\"/>\n    <path clip-path=\"url(#p6d84447b39)\" d=\"M 77.353084 133.235305 \nL 80.007472 132.714434 \n\" style=\"fill:none;stroke:#1f77b4;stroke-width:1.5;\"/>\n    <path clip-path=\"url(#p6d84447b39)\" d=\"M 80.007472 132.714434 \nL 86.29216 131.242914 \n\" style=\"fill:none;stroke:#1f77b4;stroke-width:1.5;\"/>\n    <path clip-path=\"url(#p6d84447b39)\" d=\"M 86.29216 131.242914 \nL 90.543784 130.066779 \n\" style=\"fill:none;stroke:#1f77b4;stroke-width:1.5;\"/>\n    <path clip-path=\"url(#p6d84447b39)\" d=\"M 90.543784 130.066779 \nL 94.989091 128.691699 \n\" style=\"fill:none;stroke:#1f77b4;stroke-width:1.5;\"/>\n    <path clip-path=\"url(#p6d84447b39)\" d=\"M 94.989091 128.691699 \nL 102.201338 126.172616 \n\" style=\"fill:none;stroke:#1f77b4;stroke-width:1.5;\"/>\n    <path clip-path=\"url(#p6d84447b39)\" d=\"M 102.201338 126.172616 \nL 117.040289 120.079165 \n\" style=\"fill:none;stroke:#1f77b4;stroke-width:1.5;\"/>\n    <path clip-path=\"url(#p6d84447b39)\" d=\"M 117.040289 120.079165 \nL 131.147627 113.560328 \n\" style=\"fill:none;stroke:#1f77b4;stroke-width:1.5;\"/>\n    <path clip-path=\"url(#p6d84447b39)\" d=\"M 131.147627 113.560328 \nL 145.303932 106.834944 \n\" style=\"fill:none;stroke:#1f77b4;stroke-width:1.5;\"/>\n    <path clip-path=\"url(#p6d84447b39)\" d=\"M 145.303932 106.834944 \nL 156.882828 101.571227 \n\" style=\"fill:none;stroke:#1f77b4;stroke-width:1.5;\"/>\n    <path clip-path=\"url(#p6d84447b39)\" d=\"M 156.882828 101.571227 \nL 170.752521 95.968344 \n\" style=\"fill:none;stroke:#1f77b4;stroke-width:1.5;\"/>\n    <path clip-path=\"url(#p6d84447b39)\" d=\"M 170.752521 95.968344 \nL 178.689087 93.263396 \n\" style=\"fill:none;stroke:#1f77b4;stroke-width:1.5;\"/>\n    <path clip-path=\"url(#p6d84447b39)\" d=\"M 178.689087 93.263396 \nL 183.493759 91.841637 \n\" style=\"fill:none;stroke:#1f77b4;stroke-width:1.5;\"/>\n    <path clip-path=\"url(#p6d84447b39)\" d=\"M 183.493759 91.841637 \nL 187.459333 90.8025 \n\" style=\"fill:none;stroke:#1f77b4;stroke-width:1.5;\"/>\n    <path clip-path=\"url(#p6d84447b39)\" d=\"M 187.459333 90.8025 \nL 191.593406 89.856116 \n\" style=\"fill:none;stroke:#1f77b4;stroke-width:1.5;\"/>\n    <path clip-path=\"url(#p6d84447b39)\" d=\"M 191.593406 89.856116 \nL 196.446356 88.932032 \n\" style=\"fill:none;stroke:#1f77b4;stroke-width:1.5;\"/>\n    <path clip-path=\"url(#p6d84447b39)\" d=\"M 196.446356 88.932032 \nL 200.310585 88.346057 \n\" style=\"fill:none;stroke:#1f77b4;stroke-width:1.5;\"/>\n    <path clip-path=\"url(#p6d84447b39)\" d=\"M 200.310585 88.346057 \nL 204.504341 87.864883 \n\" style=\"fill:none;stroke:#1f77b4;stroke-width:1.5;\"/>\n    <path clip-path=\"url(#p6d84447b39)\" d=\"M 204.504341 87.864883 \nL 208.991437 87.53214 \n\" style=\"fill:none;stroke:#1f77b4;stroke-width:1.5;\"/>\n    <path clip-path=\"url(#p6d84447b39)\" d=\"M 208.991437 87.53214 \nL 212.934237 87.397223 \n\" style=\"fill:none;stroke:#1f77b4;stroke-width:1.5;\"/>\n    <path clip-path=\"url(#p6d84447b39)\" d=\"M 212.934237 87.397223 \nL 217.107548 87.415879 \n\" style=\"fill:none;stroke:#1f77b4;stroke-width:1.5;\"/>\n    <path clip-path=\"url(#p6d84447b39)\" d=\"M 217.107548 87.415879 \nL 221.095415 87.588728 \n\" style=\"fill:none;stroke:#1f77b4;stroke-width:1.5;\"/>\n    <path clip-path=\"url(#p6d84447b39)\" d=\"M 221.095415 87.588728 \nL 224.74703 87.878955 \n\" style=\"fill:none;stroke:#1f77b4;stroke-width:1.5;\"/>\n    <path clip-path=\"url(#p6d84447b39)\" d=\"M 224.74703 87.878955 \nL 229.108668 88.388689 \n\" style=\"fill:none;stroke:#1f77b4;stroke-width:1.5;\"/>\n    <path clip-path=\"url(#p6d84447b39)\" d=\"M 229.108668 88.388689 \nL 232.846136 88.963937 \n\" style=\"fill:none;stroke:#1f77b4;stroke-width:1.5;\"/>\n    <path clip-path=\"url(#p6d84447b39)\" d=\"M 232.846136 88.963937 \nL 236.658467 89.678873 \n\" style=\"fill:none;stroke:#1f77b4;stroke-width:1.5;\"/>\n    <path clip-path=\"url(#p6d84447b39)\" d=\"M 236.658467 89.678873 \nL 240.46125 90.516857 \n\" style=\"fill:none;stroke:#1f77b4;stroke-width:1.5;\"/>\n    <path clip-path=\"url(#p6d84447b39)\" d=\"M 240.46125 90.516857 \nL 243.9582 91.393339 \n\" style=\"fill:none;stroke:#1f77b4;stroke-width:1.5;\"/>\n    <path clip-path=\"url(#p6d84447b39)\" d=\"M 243.9582 91.393339 \nL 251.440441 93.588599 \n\" style=\"fill:none;stroke:#1f77b4;stroke-width:1.5;\"/>\n    <path clip-path=\"url(#p6d84447b39)\" d=\"M 251.440441 93.588599 \nL 258.079198 95.868515 \n\" style=\"fill:none;stroke:#1f77b4;stroke-width:1.5;\"/>\n    <path clip-path=\"url(#p6d84447b39)\" d=\"M 258.079198 95.868515 \nL 264.581106 98.364043 \n\" style=\"fill:none;stroke:#1f77b4;stroke-width:1.5;\"/>\n    <path clip-path=\"url(#p6d84447b39)\" d=\"M 264.581106 98.364043 \nL 277.763436 104.042798 \n\" style=\"fill:none;stroke:#1f77b4;stroke-width:1.5;\"/>\n    <path clip-path=\"url(#p6d84447b39)\" d=\"M 277.763436 104.042798 \nL 293.249477 111.31785 \n\" style=\"fill:none;stroke:#1f77b4;stroke-width:1.5;\"/>\n    <path clip-path=\"url(#p6d84447b39)\" d=\"M 293.249477 111.31785 \nL 310.916413 119.568132 \n\" style=\"fill:none;stroke:#1f77b4;stroke-width:1.5;\"/>\n    <path clip-path=\"url(#p6d84447b39)\" d=\"M 310.916413 119.568132 \nL 319.983687 123.46339 \n\" style=\"fill:none;stroke:#1f77b4;stroke-width:1.5;\"/>\n    <path clip-path=\"url(#p6d84447b39)\" d=\"M 319.983687 123.46339 \nL 331.03091 127.655771 \n\" style=\"fill:none;stroke:#1f77b4;stroke-width:1.5;\"/>\n    <path clip-path=\"url(#p6d84447b39)\" d=\"M 331.03091 127.655771 \nL 339.539459 130.349859 \n\" style=\"fill:none;stroke:#1f77b4;stroke-width:1.5;\"/>\n    <path clip-path=\"url(#p6d84447b39)\" d=\"M 339.539459 130.349859 \nL 343.3681 131.386093 \n\" style=\"fill:none;stroke:#1f77b4;stroke-width:1.5;\"/>\n    <path clip-path=\"url(#p6d84447b39)\" d=\"M 343.3681 131.386093 \nL 346.89585 132.236483 \n\" style=\"fill:none;stroke:#1f77b4;stroke-width:1.5;\"/>\n    <path clip-path=\"url(#p6d84447b39)\" d=\"M 346.89585 132.236483 \nL 351.023675 133.098573 \n\" style=\"fill:none;stroke:#1f77b4;stroke-width:1.5;\"/>\n    <path clip-path=\"url(#p6d84447b39)\" d=\"M 351.023675 133.098573 \nL 355.080449 133.80075 \n\" style=\"fill:none;stroke:#1f77b4;stroke-width:1.5;\"/>\n    <path clip-path=\"url(#p6d84447b39)\" d=\"M 355.080449 133.80075 \nL 359.087195 134.34855 \n\" style=\"fill:none;stroke:#1f77b4;stroke-width:1.5;\"/>\n    <path clip-path=\"url(#p6d84447b39)\" d=\"M 359.087195 134.34855 \nL 363.337773 134.767462 \n\" style=\"fill:none;stroke:#1f77b4;stroke-width:1.5;\"/>\n    <path clip-path=\"url(#p6d84447b39)\" d=\"M 363.337773 134.767462 \nL 366.715765 134.979272 \n\" style=\"fill:none;stroke:#1f77b4;stroke-width:1.5;\"/>\n    <path clip-path=\"url(#p6d84447b39)\" d=\"M 366.715765 134.979272 \nL 370.253932 135.084953 \n\" style=\"fill:none;stroke:#1f77b4;stroke-width:1.5;\"/>\n    <path clip-path=\"url(#p6d84447b39)\" d=\"M 370.253932 135.084953 \nL 374.025226 135.066158 \n\" style=\"fill:none;stroke:#1f77b4;stroke-width:1.5;\"/>\n    <path clip-path=\"url(#p6d84447b39)\" d=\"M 374.025226 135.066158 \nL 377.510215 134.928302 \n\" style=\"fill:none;stroke:#1f77b4;stroke-width:1.5;\"/>\n    <path clip-path=\"url(#p6d84447b39)\" d=\"M 377.510215 134.928302 \nL 381.251527 134.652275 \n\" style=\"fill:none;stroke:#1f77b4;stroke-width:1.5;\"/>\n    <path clip-path=\"url(#p6d84447b39)\" d=\"M 381.251527 134.652275 \nL 385.61224 134.165304 \n\" style=\"fill:none;stroke:#1f77b4;stroke-width:1.5;\"/>\n    <path clip-path=\"url(#p6d84447b39)\" d=\"M 385.61224 134.165304 \nL 390.335911 133.441278 \n\" style=\"fill:none;stroke:#1f77b4;stroke-width:1.5;\"/>\n    <path clip-path=\"url(#p6d84447b39)\" d=\"M 390.335911 133.441278 \nL 394.613703 132.614495 \n\" style=\"fill:none;stroke:#1f77b4;stroke-width:1.5;\"/>\n    <path clip-path=\"url(#p6d84447b39)\" d=\"M 394.613703 132.614495 \nL 398.935662 131.620374 \n\" style=\"fill:none;stroke:#1f77b4;stroke-width:1.5;\"/>\n    <path clip-path=\"url(#p6d84447b39)\" d=\"M 398.935662 131.620374 \nL 403.670849 130.356766 \n\" style=\"fill:none;stroke:#1f77b4;stroke-width:1.5;\"/>\n    <path clip-path=\"url(#p6d84447b39)\" d=\"M 403.670849 130.356766 \nL 408.615811 128.854455 \n\" style=\"fill:none;stroke:#1f77b4;stroke-width:1.5;\"/>\n    <path clip-path=\"url(#p6d84447b39)\" d=\"M 408.615811 128.854455 \nL 412.716064 127.477506 \n\" style=\"fill:none;stroke:#1f77b4;stroke-width:1.5;\"/>\n    <path clip-path=\"url(#p6d84447b39)\" d=\"M 412.716064 127.477506 \nL 420.883463 124.419291 \n\" style=\"fill:none;stroke:#1f77b4;stroke-width:1.5;\"/>\n    <path clip-path=\"url(#p6d84447b39)\" d=\"M 420.883463 124.419291 \nL 425.914844 122.32634 \n\" style=\"fill:none;stroke:#1f77b4;stroke-width:1.5;\"/>\n    <path clip-path=\"url(#p6d84447b39)\" style=\"fill:none;stroke:#1f77b4;stroke-width:1.5;\"/>\n    <path clip-path=\"url(#p6d84447b39)\" style=\"fill:none;stroke:#1f77b4;stroke-width:1.5;\"/>\n    <path clip-path=\"url(#p6d84447b39)\" style=\"fill:none;stroke:#1f77b4;stroke-width:1.5;\"/>\n    <path clip-path=\"url(#p6d84447b39)\" style=\"fill:none;stroke:#1f77b4;stroke-width:1.5;\"/>\n    <path clip-path=\"url(#p6d84447b39)\" style=\"fill:none;stroke:#1f77b4;stroke-width:1.5;\"/>\n    <path clip-path=\"url(#p6d84447b39)\" style=\"fill:none;stroke:#1f77b4;stroke-width:1.5;\"/>\n    <path clip-path=\"url(#p6d84447b39)\" style=\"fill:none;stroke:#1f77b4;stroke-width:1.5;\"/>\n    <path clip-path=\"url(#p6d84447b39)\" style=\"fill:none;stroke:#1f77b4;stroke-width:1.5;\"/>\n    <path clip-path=\"url(#p6d84447b39)\" style=\"fill:none;stroke:#1f77b4;stroke-width:1.5;\"/>\n    <path clip-path=\"url(#p6d84447b39)\" style=\"fill:none;stroke:#1f77b4;stroke-width:1.5;\"/>\n    <path clip-path=\"url(#p6d84447b39)\" style=\"fill:none;stroke:#1f77b4;stroke-width:1.5;\"/>\n    <path clip-path=\"url(#p6d84447b39)\" style=\"fill:none;stroke:#1f77b4;stroke-width:1.5;\"/>\n    <path clip-path=\"url(#p6d84447b39)\" style=\"fill:none;stroke:#1f77b4;stroke-width:1.5;\"/>\n    <path clip-path=\"url(#p6d84447b39)\" style=\"fill:none;stroke:#1f77b4;stroke-width:1.5;\"/>\n    <path clip-path=\"url(#p6d84447b39)\" style=\"fill:none;stroke:#1f77b4;stroke-width:1.5;\"/>\n    <path clip-path=\"url(#p6d84447b39)\" style=\"fill:none;stroke:#1f77b4;stroke-width:1.5;\"/>\n    <path clip-path=\"url(#p6d84447b39)\" style=\"fill:none;stroke:#1f77b4;stroke-width:1.5;\"/>\n    <path clip-path=\"url(#p6d84447b39)\" style=\"fill:none;stroke:#1f77b4;stroke-width:1.5;\"/>\n    <path clip-path=\"url(#p6d84447b39)\" style=\"fill:none;stroke:#1f77b4;stroke-width:1.5;\"/>\n    <path clip-path=\"url(#p6d84447b39)\" style=\"fill:none;stroke:#1f77b4;stroke-width:1.5;\"/>\n    <path clip-path=\"url(#p6d84447b39)\" style=\"fill:none;stroke:#1f77b4;stroke-width:1.5;\"/>\n    <path clip-path=\"url(#p6d84447b39)\" style=\"fill:none;stroke:#1f77b4;stroke-width:1.5;\"/>\n    <path clip-path=\"url(#p6d84447b39)\" style=\"fill:none;stroke:#1f77b4;stroke-width:1.5;\"/>\n    <path clip-path=\"url(#p6d84447b39)\" style=\"fill:none;stroke:#1f77b4;stroke-width:1.5;\"/>\n    <path clip-path=\"url(#p6d84447b39)\" style=\"fill:none;stroke:#1f77b4;stroke-width:1.5;\"/>\n    <path clip-path=\"url(#p6d84447b39)\" style=\"fill:none;stroke:#1f77b4;stroke-width:1.5;\"/>\n    <path clip-path=\"url(#p6d84447b39)\" style=\"fill:none;stroke:#1f77b4;stroke-width:1.5;\"/>\n    <path clip-path=\"url(#p6d84447b39)\" style=\"fill:none;stroke:#1f77b4;stroke-width:1.5;\"/>\n    <path clip-path=\"url(#p6d84447b39)\" style=\"fill:none;stroke:#1f77b4;stroke-width:1.5;\"/>\n    <path clip-path=\"url(#p6d84447b39)\" style=\"fill:none;stroke:#1f77b4;stroke-width:1.5;\"/>\n    <path clip-path=\"url(#p6d84447b39)\" style=\"fill:none;stroke:#1f77b4;stroke-width:1.5;\"/>\n    <path clip-path=\"url(#p6d84447b39)\" style=\"fill:none;stroke:#1f77b4;stroke-width:1.5;\"/>\n    <path clip-path=\"url(#p6d84447b39)\" style=\"fill:none;stroke:#1f77b4;stroke-width:1.5;\"/>\n    <path clip-path=\"url(#p6d84447b39)\" style=\"fill:none;stroke:#1f77b4;stroke-width:1.5;\"/>\n    <path clip-path=\"url(#p6d84447b39)\" style=\"fill:none;stroke:#1f77b4;stroke-width:1.5;\"/>\n    <path clip-path=\"url(#p6d84447b39)\" style=\"fill:none;stroke:#1f77b4;stroke-width:1.5;\"/>\n    <path clip-path=\"url(#p6d84447b39)\" style=\"fill:none;stroke:#1f77b4;stroke-width:1.5;\"/>\n    <path clip-path=\"url(#p6d84447b39)\" style=\"fill:none;stroke:#1f77b4;stroke-width:1.5;\"/>\n    <path clip-path=\"url(#p6d84447b39)\" style=\"fill:none;stroke:#1f77b4;stroke-width:1.5;\"/>\n    <path clip-path=\"url(#p6d84447b39)\" style=\"fill:none;stroke:#1f77b4;stroke-width:1.5;\"/>\n    <path clip-path=\"url(#p6d84447b39)\" style=\"fill:none;stroke:#1f77b4;stroke-width:1.5;\"/>\n    <path clip-path=\"url(#p6d84447b39)\" style=\"fill:none;stroke:#1f77b4;stroke-width:1.5;\"/>\n    <path clip-path=\"url(#p6d84447b39)\" style=\"fill:none;stroke:#1f77b4;stroke-width:1.5;\"/>\n    <path clip-path=\"url(#p6d84447b39)\" style=\"fill:none;stroke:#1f77b4;stroke-width:1.5;\"/>\n    <path clip-path=\"url(#p6d84447b39)\" style=\"fill:none;stroke:#1f77b4;stroke-width:1.5;\"/>\n    <path clip-path=\"url(#p6d84447b39)\" style=\"fill:none;stroke:#1f77b4;stroke-width:1.5;\"/>\n    <path clip-path=\"url(#p6d84447b39)\" style=\"fill:none;stroke:#1f77b4;stroke-width:1.5;\"/>\n    <path clip-path=\"url(#p6d84447b39)\" style=\"fill:none;stroke:#1f77b4;stroke-width:1.5;\"/>\n    <path clip-path=\"url(#p6d84447b39)\" style=\"fill:none;stroke:#1f77b4;stroke-width:1.5;\"/>\n    <path clip-path=\"url(#p6d84447b39)\" style=\"fill:none;stroke:#1f77b4;stroke-width:1.5;\"/>\n   </g>\n   <g id=\"LineCollection_2\">\n    <path clip-path=\"url(#p6d84447b39)\" style=\"fill:none;stroke:#ffa500;stroke-width:1.5;\"/>\n    <path clip-path=\"url(#p6d84447b39)\" style=\"fill:none;stroke:#ffa500;stroke-width:1.5;\"/>\n    <path clip-path=\"url(#p6d84447b39)\" style=\"fill:none;stroke:#ffa500;stroke-width:1.5;\"/>\n    <path clip-path=\"url(#p6d84447b39)\" style=\"fill:none;stroke:#ffa500;stroke-width:1.5;\"/>\n    <path clip-path=\"url(#p6d84447b39)\" style=\"fill:none;stroke:#ffa500;stroke-width:1.5;\"/>\n    <path clip-path=\"url(#p6d84447b39)\" style=\"fill:none;stroke:#ffa500;stroke-width:1.5;\"/>\n    <path clip-path=\"url(#p6d84447b39)\" style=\"fill:none;stroke:#ffa500;stroke-width:1.5;\"/>\n    <path clip-path=\"url(#p6d84447b39)\" style=\"fill:none;stroke:#ffa500;stroke-width:1.5;\"/>\n    <path clip-path=\"url(#p6d84447b39)\" style=\"fill:none;stroke:#ffa500;stroke-width:1.5;\"/>\n    <path clip-path=\"url(#p6d84447b39)\" style=\"fill:none;stroke:#ffa500;stroke-width:1.5;\"/>\n    <path clip-path=\"url(#p6d84447b39)\" style=\"fill:none;stroke:#ffa500;stroke-width:1.5;\"/>\n    <path clip-path=\"url(#p6d84447b39)\" style=\"fill:none;stroke:#ffa500;stroke-width:1.5;\"/>\n    <path clip-path=\"url(#p6d84447b39)\" style=\"fill:none;stroke:#ffa500;stroke-width:1.5;\"/>\n    <path clip-path=\"url(#p6d84447b39)\" style=\"fill:none;stroke:#ffa500;stroke-width:1.5;\"/>\n    <path clip-path=\"url(#p6d84447b39)\" style=\"fill:none;stroke:#ffa500;stroke-width:1.5;\"/>\n    <path clip-path=\"url(#p6d84447b39)\" style=\"fill:none;stroke:#ffa500;stroke-width:1.5;\"/>\n    <path clip-path=\"url(#p6d84447b39)\" style=\"fill:none;stroke:#ffa500;stroke-width:1.5;\"/>\n    <path clip-path=\"url(#p6d84447b39)\" style=\"fill:none;stroke:#ffa500;stroke-width:1.5;\"/>\n    <path clip-path=\"url(#p6d84447b39)\" style=\"fill:none;stroke:#ffa500;stroke-width:1.5;\"/>\n    <path clip-path=\"url(#p6d84447b39)\" style=\"fill:none;stroke:#ffa500;stroke-width:1.5;\"/>\n    <path clip-path=\"url(#p6d84447b39)\" style=\"fill:none;stroke:#ffa500;stroke-width:1.5;\"/>\n    <path clip-path=\"url(#p6d84447b39)\" style=\"fill:none;stroke:#ffa500;stroke-width:1.5;\"/>\n    <path clip-path=\"url(#p6d84447b39)\" style=\"fill:none;stroke:#ffa500;stroke-width:1.5;\"/>\n    <path clip-path=\"url(#p6d84447b39)\" style=\"fill:none;stroke:#ffa500;stroke-width:1.5;\"/>\n    <path clip-path=\"url(#p6d84447b39)\" d=\"M 51.116334 -1 \nL 54.497194 9.881743 \n\" style=\"fill:none;stroke:#ffa500;stroke-width:1.5;\"/>\n    <path clip-path=\"url(#p6d84447b39)\" d=\"M 54.497194 9.881743 \nL 69.011288 52.211955 \n\" style=\"fill:none;stroke:#ffa500;stroke-width:1.5;\"/>\n    <path clip-path=\"url(#p6d84447b39)\" d=\"M 69.011288 52.211955 \nL 83.465994 90.372717 \n\" style=\"fill:none;stroke:#ffa500;stroke-width:1.5;\"/>\n    <path clip-path=\"url(#p6d84447b39)\" d=\"M 83.465994 90.372717 \nL 95.417001 118.911932 \n\" style=\"fill:none;stroke:#ffa500;stroke-width:1.5;\"/>\n    <path clip-path=\"url(#p6d84447b39)\" d=\"M 95.417001 118.911932 \nL 112.359839 154.699715 \n\" style=\"fill:none;stroke:#ffa500;stroke-width:1.5;\"/>\n    <path clip-path=\"url(#p6d84447b39)\" d=\"M 112.359839 154.699715 \nL 131.485583 188.514828 \n\" style=\"fill:none;stroke:#ffa500;stroke-width:1.5;\"/>\n    <path clip-path=\"url(#p6d84447b39)\" d=\"M 131.485583 188.514828 \nL 147.711791 211.728959 \n\" style=\"fill:none;stroke:#ffa500;stroke-width:1.5;\"/>\n    <path clip-path=\"url(#p6d84447b39)\" d=\"M 147.711791 211.728959 \nL 157.813632 223.64299 \n\" style=\"fill:none;stroke:#ffa500;stroke-width:1.5;\"/>\n    <path clip-path=\"url(#p6d84447b39)\" d=\"M 157.813632 223.64299 \nL 166.235858 232.087161 \n\" style=\"fill:none;stroke:#ffa500;stroke-width:1.5;\"/>\n    <path clip-path=\"url(#p6d84447b39)\" d=\"M 166.235858 232.087161 \nL 173.539702 238.313849 \n\" style=\"fill:none;stroke:#ffa500;stroke-width:1.5;\"/>\n    <path clip-path=\"url(#p6d84447b39)\" d=\"M 173.539702 238.313849 \nL 180.214601 243.113866 \n\" style=\"fill:none;stroke:#ffa500;stroke-width:1.5;\"/>\n    <path clip-path=\"url(#p6d84447b39)\" d=\"M 180.214601 243.113866 \nL 184.077236 245.503093 \n\" style=\"fill:none;stroke:#ffa500;stroke-width:1.5;\"/>\n    <path clip-path=\"url(#p6d84447b39)\" d=\"M 184.077236 245.503093 \nL 188.729892 248.00288 \n\" style=\"fill:none;stroke:#ffa500;stroke-width:1.5;\"/>\n    <path clip-path=\"url(#p6d84447b39)\" d=\"M 188.729892 248.00288 \nL 192.894603 249.890045 \n\" style=\"fill:none;stroke:#ffa500;stroke-width:1.5;\"/>\n    <path clip-path=\"url(#p6d84447b39)\" d=\"M 192.894603 249.890045 \nL 194.875345 250.671413 \n\" style=\"fill:none;stroke:#ffa500;stroke-width:1.5;\"/>\n    <path clip-path=\"url(#p6d84447b39)\" d=\"M 194.875345 250.671413 \nL 196.999292 251.426071 \n\" style=\"fill:none;stroke:#ffa500;stroke-width:1.5;\"/>\n    <path clip-path=\"url(#p6d84447b39)\" d=\"M 196.999292 251.426071 \nL 199.285147 252.142054 \n\" style=\"fill:none;stroke:#ffa500;stroke-width:1.5;\"/>\n    <path clip-path=\"url(#p6d84447b39)\" d=\"M 199.285147 252.142054 \nL 201.298828 252.690159 \n\" style=\"fill:none;stroke:#ffa500;stroke-width:1.5;\"/>\n    <path clip-path=\"url(#p6d84447b39)\" d=\"M 201.298828 252.690159 \nL 203.63092 253.228211 \n\" style=\"fill:none;stroke:#ffa500;stroke-width:1.5;\"/>\n    <path clip-path=\"url(#p6d84447b39)\" d=\"M 203.63092 253.228211 \nL 205.623117 253.605626 \n\" style=\"fill:none;stroke:#ffa500;stroke-width:1.5;\"/>\n    <path clip-path=\"url(#p6d84447b39)\" d=\"M 205.623117 253.605626 \nL 207.651505 253.912067 \n\" style=\"fill:none;stroke:#ffa500;stroke-width:1.5;\"/>\n    <path clip-path=\"url(#p6d84447b39)\" d=\"M 207.651505 253.912067 \nL 209.452316 254.118316 \n\" style=\"fill:none;stroke:#ffa500;stroke-width:1.5;\"/>\n    <path clip-path=\"url(#p6d84447b39)\" d=\"M 209.452316 254.118316 \nL 211.325574 254.26718 \n\" style=\"fill:none;stroke:#ffa500;stroke-width:1.5;\"/>\n    <path clip-path=\"url(#p6d84447b39)\" d=\"M 211.325574 254.26718 \nL 213.476005 254.355492 \n\" style=\"fill:none;stroke:#ffa500;stroke-width:1.5;\"/>\n    <path clip-path=\"url(#p6d84447b39)\" d=\"M 213.476005 254.355492 \nL 215.290583 254.361347 \n\" style=\"fill:none;stroke:#ffa500;stroke-width:1.5;\"/>\n    <path clip-path=\"url(#p6d84447b39)\" d=\"M 215.290583 254.361347 \nL 217.367549 254.290912 \n\" style=\"fill:none;stroke:#ffa500;stroke-width:1.5;\"/>\n    <path clip-path=\"url(#p6d84447b39)\" d=\"M 217.367549 254.290912 \nL 219.21988 254.158632 \n\" style=\"fill:none;stroke:#ffa500;stroke-width:1.5;\"/>\n    <path clip-path=\"url(#p6d84447b39)\" d=\"M 219.21988 254.158632 \nL 221.383031 253.92126 \n\" style=\"fill:none;stroke:#ffa500;stroke-width:1.5;\"/>\n    <path clip-path=\"url(#p6d84447b39)\" d=\"M 221.383031 253.92126 \nL 223.164507 253.658705 \n\" style=\"fill:none;stroke:#ffa500;stroke-width:1.5;\"/>\n    <path clip-path=\"url(#p6d84447b39)\" d=\"M 223.164507 253.658705 \nL 225.286323 253.26695 \n\" style=\"fill:none;stroke:#ffa500;stroke-width:1.5;\"/>\n    <path clip-path=\"url(#p6d84447b39)\" d=\"M 225.286323 253.26695 \nL 226.991658 252.889804 \n\" style=\"fill:none;stroke:#ffa500;stroke-width:1.5;\"/>\n    <path clip-path=\"url(#p6d84447b39)\" d=\"M 226.991658 252.889804 \nL 228.903395 252.401017 \n\" style=\"fill:none;stroke:#ffa500;stroke-width:1.5;\"/>\n    <path clip-path=\"url(#p6d84447b39)\" d=\"M 228.903395 252.401017 \nL 230.929586 251.806819 \n\" style=\"fill:none;stroke:#ffa500;stroke-width:1.5;\"/>\n    <path clip-path=\"url(#p6d84447b39)\" d=\"M 230.929586 251.806819 \nL 233.043954 251.10321 \n\" style=\"fill:none;stroke:#ffa500;stroke-width:1.5;\"/>\n    <path clip-path=\"url(#p6d84447b39)\" d=\"M 233.043954 251.10321 \nL 235.013109 250.371185 \n\" style=\"fill:none;stroke:#ffa500;stroke-width:1.5;\"/>\n    <path clip-path=\"url(#p6d84447b39)\" d=\"M 235.013109 250.371185 \nL 236.946601 249.580403 \n\" style=\"fill:none;stroke:#ffa500;stroke-width:1.5;\"/>\n    <path clip-path=\"url(#p6d84447b39)\" d=\"M 236.946601 249.580403 \nL 240.801259 247.79095 \n\" style=\"fill:none;stroke:#ffa500;stroke-width:1.5;\"/>\n    <path clip-path=\"url(#p6d84447b39)\" d=\"M 240.801259 247.79095 \nL 245.361548 245.307689 \n\" style=\"fill:none;stroke:#ffa500;stroke-width:1.5;\"/>\n    <path clip-path=\"url(#p6d84447b39)\" d=\"M 245.361548 245.307689 \nL 249.646829 242.612423 \n\" style=\"fill:none;stroke:#ffa500;stroke-width:1.5;\"/>\n    <path clip-path=\"url(#p6d84447b39)\" d=\"M 249.646829 242.612423 \nL 253.250115 240.074829 \n\" style=\"fill:none;stroke:#ffa500;stroke-width:1.5;\"/>\n    <path clip-path=\"url(#p6d84447b39)\" d=\"M 253.250115 240.074829 \nL 260.750686 233.997753 \n\" style=\"fill:none;stroke:#ffa500;stroke-width:1.5;\"/>\n    <path clip-path=\"url(#p6d84447b39)\" d=\"M 260.750686 233.997753 \nL 268.505783 226.585358 \n\" style=\"fill:none;stroke:#ffa500;stroke-width:1.5;\"/>\n    <path clip-path=\"url(#p6d84447b39)\" d=\"M 268.505783 226.585358 \nL 275.234741 219.223613 \n\" style=\"fill:none;stroke:#ffa500;stroke-width:1.5;\"/>\n    <path clip-path=\"url(#p6d84447b39)\" d=\"M 275.234741 219.223613 \nL 288.974113 201.508326 \n\" style=\"fill:none;stroke:#ffa500;stroke-width:1.5;\"/>\n    <path clip-path=\"url(#p6d84447b39)\" d=\"M 288.974113 201.508326 \nL 306.011509 174.536381 \n\" style=\"fill:none;stroke:#ffa500;stroke-width:1.5;\"/>\n    <path clip-path=\"url(#p6d84447b39)\" d=\"M 306.011509 174.536381 \nL 324.709076 138.559588 \n\" style=\"fill:none;stroke:#ffa500;stroke-width:1.5;\"/>\n    <path clip-path=\"url(#p6d84447b39)\" d=\"M 324.709076 138.559588 \nL 341.804782 99.825165 \n\" style=\"fill:none;stroke:#ffa500;stroke-width:1.5;\"/>\n    <path clip-path=\"url(#p6d84447b39)\" d=\"M 341.804782 99.825165 \nL 360.766865 50.336758 \n\" style=\"fill:none;stroke:#ffa500;stroke-width:1.5;\"/>\n    <path clip-path=\"url(#p6d84447b39)\" d=\"M 360.766865 50.336758 \nL 378.08342 -1 \n\" style=\"fill:none;stroke:#ffa500;stroke-width:1.5;\"/>\n    <path clip-path=\"url(#p6d84447b39)\" style=\"fill:none;stroke:#ffa500;stroke-width:1.5;\"/>\n    <path clip-path=\"url(#p6d84447b39)\" style=\"fill:none;stroke:#ffa500;stroke-width:1.5;\"/>\n    <path clip-path=\"url(#p6d84447b39)\" style=\"fill:none;stroke:#ffa500;stroke-width:1.5;\"/>\n    <path clip-path=\"url(#p6d84447b39)\" style=\"fill:none;stroke:#ffa500;stroke-width:1.5;\"/>\n    <path clip-path=\"url(#p6d84447b39)\" style=\"fill:none;stroke:#ffa500;stroke-width:1.5;\"/>\n    <path clip-path=\"url(#p6d84447b39)\" style=\"fill:none;stroke:#ffa500;stroke-width:1.5;\"/>\n    <path clip-path=\"url(#p6d84447b39)\" style=\"fill:none;stroke:#ffa500;stroke-width:1.5;\"/>\n    <path clip-path=\"url(#p6d84447b39)\" style=\"fill:none;stroke:#ffa500;stroke-width:1.5;\"/>\n    <path clip-path=\"url(#p6d84447b39)\" style=\"fill:none;stroke:#ffa500;stroke-width:1.5;\"/>\n    <path clip-path=\"url(#p6d84447b39)\" style=\"fill:none;stroke:#ffa500;stroke-width:1.5;\"/>\n    <path clip-path=\"url(#p6d84447b39)\" style=\"fill:none;stroke:#ffa500;stroke-width:1.5;\"/>\n    <path clip-path=\"url(#p6d84447b39)\" style=\"fill:none;stroke:#ffa500;stroke-width:1.5;\"/>\n    <path clip-path=\"url(#p6d84447b39)\" style=\"fill:none;stroke:#ffa500;stroke-width:1.5;\"/>\n    <path clip-path=\"url(#p6d84447b39)\" style=\"fill:none;stroke:#ffa500;stroke-width:1.5;\"/>\n    <path clip-path=\"url(#p6d84447b39)\" style=\"fill:none;stroke:#ffa500;stroke-width:1.5;\"/>\n    <path clip-path=\"url(#p6d84447b39)\" style=\"fill:none;stroke:#ffa500;stroke-width:1.5;\"/>\n    <path clip-path=\"url(#p6d84447b39)\" style=\"fill:none;stroke:#ffa500;stroke-width:1.5;\"/>\n    <path clip-path=\"url(#p6d84447b39)\" style=\"fill:none;stroke:#ffa500;stroke-width:1.5;\"/>\n    <path clip-path=\"url(#p6d84447b39)\" style=\"fill:none;stroke:#ffa500;stroke-width:1.5;\"/>\n   </g>\n   <g id=\"patch_3\">\n    <path d=\"M 214.552344 278.221094 \nL 214.552344 15.821094 \n\" style=\"fill:none;stroke:#000000;stroke-linecap:square;stroke-linejoin:miter;stroke-width:0.8;\"/>\n   </g>\n   <g id=\"patch_4\">\n    <path d=\"M 414.533594 278.221094 \nL 414.533594 15.821094 \n\" style=\"fill:none;\"/>\n   </g>\n   <g id=\"patch_5\">\n    <path d=\"M 14.571094 111.239276 \nL 414.533594 111.239276 \n\" style=\"fill:none;stroke:#000000;stroke-linecap:square;stroke-linejoin:miter;stroke-width:0.8;\"/>\n   </g>\n   <g id=\"patch_6\">\n    <path d=\"M 14.571094 15.821094 \nL 414.533594 15.821094 \n\" style=\"fill:none;\"/>\n   </g>\n  </g>\n </g>\n <defs>\n  <clipPath id=\"p6d84447b39\">\n   <rect height=\"262.4\" width=\"399.9625\" x=\"14.571094\" y=\"15.821094\"/>\n  </clipPath>\n </defs>\n</svg>\n",
      "image/png": "[encoded data removed]"
     },
     "metadata": {
      "needs_background": "light"
     }
    }
   ],
   "source": [
    "f1_plot = sympy.plotting.plot(f1(x),xlim=(-4,4),ylim=(-7,4), show=False)\n",
    "f2_plot = sympy.plotting.plot(f2(x), line_color = 'orange', show=False)\n",
    "f1_plot.append(f2_plot[0])\n",
    "f1_plot.show()"
   ]
  },
  {
   "source": [
    "Define-se os intervalos de $[a,b]$ como $[-3,-2]$ e $[2,3]$"
   ],
   "cell_type": "markdown",
   "metadata": {}
  },
  {
   "source": [
    "##"
   ],
   "cell_type": "markdown",
   "metadata": {}
  },
  {
   "cell_type": "code",
   "execution_count": 211,
   "metadata": {},
   "outputs": [],
   "source": [
    "a = -3\n",
    "b = -2\n",
    "e = 0.01\n",
    "x_k1 = 0\n",
    "lista_x_k = list()\n",
    "lista_er = list()\n",
    "lista_f_x = list()"
   ]
  },
  {
   "source": [
    "Função que decide qual limite substituir por $x_k$"
   ],
   "cell_type": "markdown",
   "metadata": {}
  },
  {
   "cell_type": "code",
   "execution_count": 212,
   "metadata": {},
   "outputs": [],
   "source": [
    "def escolher_lado(f_a, f_x, b, a, x_k1, x_k):\n",
    "    if (f_a * f_x < 0):\n",
    "        b = x_k\n",
    "    else:\n",
    "        a = x_k\n",
    "\n",
    "    x_k1 = x_k\n",
    "    return a, b, x_k1"
   ]
  },
  {
   "source": [
    "Definindo o erro relativo como restrição <font size='10'> $\\frac{|x_k-x_{k-1}|}{max\\{x_{k},1\\}}$ </font> "
   ],
   "cell_type": "markdown",
   "metadata": {}
  },
  {
   "cell_type": "code",
   "execution_count": 213,
   "metadata": {},
   "outputs": [],
   "source": [
    "def erro_relativo(x_k, x_k1, max_xk_1):\n",
    "    return (abs(x_k - x_k1)/max_xk_1)"
   ]
  },
  {
   "source": [
    "Realizando as iterações, tem-se:"
   ],
   "cell_type": "markdown",
   "metadata": {}
  },
  {
   "cell_type": "code",
   "execution_count": 214,
   "metadata": {},
   "outputs": [],
   "source": [
    "def metodo_biseccao(a, b, e, x_k1):\n",
    "    eh_1_iteração = True\n",
    "    lista_er.clear()\n",
    "    lista_f_x.clear()\n",
    "    lista_x_k.clear()\n",
    "    while True:\n",
    "\n",
    "        x_k = (a + b)/2\n",
    "        f_x = f1(x_k) - f2(x_k)\n",
    "        f_a = f1(a) - f2(a)\n",
    "        lista_x_k.append(x_k)\n",
    "        lista_f_x.append(abs(f_x))\n",
    "       \n",
    "        if abs(x_k) < 1:\n",
    "            max_xk_1 = 1\n",
    "\n",
    "        else:\n",
    "            max_xk_1 = abs(x_k)\n",
    "\n",
    "        lista_er.append(abs(x_k - x_k1)/max_xk_1)\n",
    "\n",
    "        if not eh_1_iteração and (abs(f_x) >= e and erro_relativo(x_k, x_k1, max_xk_1) >= e ):\n",
    "            a, b, x_k1 = escolher_lado(f_a, f_x, b, a, x_k1, x_k)\n",
    "    \n",
    "        elif eh_1_iteração and abs(f_x) >= e:\n",
    "            a, b, x_k1 = escolher_lado(f_a, f_x, b, a, x_k1, x_k)\n",
    "            eh_1_iteração = False\n",
    "\n",
    "        else: \n",
    "            break\n",
    "\n",
    "    return x_k"
   ]
  },
  {
   "cell_type": "code",
   "execution_count": 215,
   "metadata": {},
   "outputs": [],
   "source": [
    "x_k = metodo_biseccao(a, b, e, x_k1)"
   ]
  },
  {
   "source": [
    "Plotando a tabela dos resultados obtidos pelas iterações."
   ],
   "cell_type": "markdown",
   "metadata": {}
  },
  {
   "cell_type": "code",
   "execution_count": 216,
   "metadata": {},
   "outputs": [
    {
     "output_type": "execute_result",
     "data": {
      "text/plain": [
       "<IPython.core.display.Markdown object>"
      ],
      "text/markdown": "|    |  Valor de x_k  |  Valor de f(x)  |    ER    |\n|:--:|:--------------:|:---------------:|:--------:|\n| 0  |   -2.500000    |    1.051144     | 1.000000 |\n| 1  |   -2.250000    |    0.309326     | 0.111111 |\n| 2  |   -2.375000    |    0.360903     | 0.052632 |\n| 3  |   -2.312500    |    0.023201     | 0.027027 |\n| 4  |   -2.281250    |    0.143721     | 0.013699 |\n| 5  |   -2.296875    |    0.060423     | 0.006803 |"
     },
     "metadata": {},
     "execution_count": 216
    }
   ],
   "source": [
    "df = pd.DataFrame({'Valor de x_k': lista_x_k,'Valor de f(x)': lista_f_x, 'ER': lista_er})\n",
    "md(df.to_markdown(numalign = 'center', stralign = 'center', floatfmt = '.6f', index=True))"
   ]
  },
  {
   "source": [
    "Após 6 iterações pode-se concluir que $x_k = 2,296875$. Além disso na sexta iteração o erro relativo é menor que a precisão de $\\varepsilon$."
   ],
   "cell_type": "markdown",
   "metadata": {}
  },
  {
   "source": [
    "##"
   ],
   "cell_type": "markdown",
   "metadata": {}
  },
  {
   "source": [
    "Utilizando a mesma equação do erro relativo como restrição $\\frac{|x_k-x_{k-1}|}{max\\{x_{k},1\\}}$, bem como a equação que decide qual limite substituir por $x_k$, calculamos pelo método da falsa posição."
   ],
   "cell_type": "markdown",
   "metadata": {}
  },
  {
   "cell_type": "code",
   "execution_count": 217,
   "metadata": {},
   "outputs": [],
   "source": [
    "def metodo_falsa_posicao(a, b, e, x_k1):\n",
    "    eh_1_iteração = True\n",
    "    lista_er.clear()\n",
    "    lista_f_x.clear()\n",
    "    lista_x_k.clear()\n",
    "    while True:\n",
    "\n",
    "        f_a = float(f1(a) - f2(a))\n",
    "        f_b = float(f1(b) - f2(b))\n",
    "        x_k = (a * f_b - b * f_a)/(f_b - f_a)\n",
    "        f_x = f1(x_k) - f2(x_k)\n",
    "        lista_x_k.append(x_k)\n",
    "        lista_f_x.append(abs(f_x))\n",
    "        \n",
    "        if abs(x_k) < 1:\n",
    "            max_xk_1 = 1\n",
    "\n",
    "        else:\n",
    "            max_xk_1 = abs(x_k)\n",
    "\n",
    "        lista_er.append(abs(x_k - x_k1)/max_xk_1)\n",
    "\n",
    "        if not eh_1_iteração and (abs(f_x) >= e and erro_relativo(x_k, x_k1, max_xk_1) >= e ):\n",
    "            a, b, x_k1 = escolher_lado(f_a, f_x, b, a, x_k1, x_k)\n",
    "\n",
    "        elif eh_1_iteração and abs(f_x) >= e:\n",
    "            a, b, x_k1 = escolher_lado(f_a, f_x, b, a, x_k1, x_k)\n",
    "            eh_1_iteração = False\n",
    "\n",
    "        else: \n",
    "            break\n",
    "    return x_k\n"
   ]
  },
  {
   "source": [
    "Plotando a tabela dos resultados obtidos pelas iterações."
   ],
   "cell_type": "markdown",
   "metadata": {}
  },
  {
   "cell_type": "code",
   "execution_count": 218,
   "metadata": {},
   "outputs": [
    {
     "output_type": "execute_result",
     "data": {
      "text/plain": [
       "<IPython.core.display.Markdown object>"
      ],
      "text/markdown": "|    |  Valor de x_k  |  Valor de f(x)  |    ER    |\n|:--:|:--------------:|:---------------:|:--------:|\n| 0  |   -2.284158    |    0.128242     | 1.000000 |\n| 1  |   -2.306449    |    0.009219     | 0.009665 |"
     },
     "metadata": {},
     "execution_count": 218
    }
   ],
   "source": [
    "x_k = metodo_falsa_posicao(a, b, e, x_k1)\n",
    "df = pd.DataFrame({'Valor de x_k': lista_x_k,'Valor de f(x)': lista_f_x, 'ER': lista_er})\n",
    "md(df.to_markdown(numalign = 'center', stralign = 'center', floatfmt = '.6f', index=True))"
   ]
  },
  {
   "source": [
    "Após 2 iterações pode-se concluir que $x_k = 2,306449$. Além disso na segunda iteração o erro relativo e o valor da f(x) são menores que a precisão de $\\varepsilon$."
   ],
   "cell_type": "markdown",
   "metadata": {}
  },
  {
   "source": [
    "##"
   ],
   "cell_type": "markdown",
   "metadata": {}
  },
  {
   "source": [
    "Utilizando a mesma equação do erro relativo como restrição $\\frac{|x_k-x_{k-1}|}{max\\{x_{k},1\\}}$, bem como a equação que decide qual limite substituir por $x_k$, calculamos pelo método da bisecção e da falsa posição com $\\varepsilon = 0,001$."
   ],
   "cell_type": "markdown",
   "metadata": {}
  },
  {
   "cell_type": "code",
   "execution_count": 219,
   "metadata": {},
   "outputs": [],
   "source": [
    "a = 3\n",
    "b = 2\n",
    "e = 0.0001\n",
    "x_k1 = 1"
   ]
  },
  {
   "cell_type": "code",
   "execution_count": 220,
   "metadata": {},
   "outputs": [],
   "source": [
    "x_k = metodo_biseccao(a, b, e, x_k1)"
   ]
  },
  {
   "source": [
    "Plotando a tabela dos resultados obtidos pelas iterações do método da bisecção."
   ],
   "cell_type": "markdown",
   "metadata": {}
  },
  {
   "cell_type": "code",
   "execution_count": 221,
   "metadata": {},
   "outputs": [
    {
     "output_type": "execute_result",
     "data": {
      "text/plain": [
       "<IPython.core.display.Markdown object>"
      ],
      "text/markdown": "|    |  Valor de x_k  |  Valor de f(x)  |    ER    |\n|:--:|:--------------:|:---------------:|:--------:|\n| 0  |    2.500000    |    1.051144     | 0.600000 |\n| 1  |    2.250000    |    0.309326     | 0.111111 |\n| 2  |    2.375000    |    0.360903     | 0.052632 |\n| 3  |    2.312500    |    0.023201     | 0.027027 |\n| 4  |    2.281250    |    0.143721     | 0.013699 |\n| 5  |    2.296875    |    0.060423     | 0.006803 |\n| 6  |    2.304688    |    0.018651     | 0.003390 |\n| 7  |    2.308594    |    0.002265     | 0.001692 |\n| 8  |    2.306641    |    0.008196     | 0.000847 |\n| 9  |    2.307617    |    0.002966     | 0.000423 |\n| 10 |    2.308105    |    0.000351     | 0.000212 |\n| 11 |    2.308350    |    0.000957     | 0.000106 |\n| 12 |    2.308228    |    0.000303     | 0.000053 |"
     },
     "metadata": {},
     "execution_count": 221
    }
   ],
   "source": [
    "df = pd.DataFrame({'Valor de x_k': lista_x_k,'Valor de f(x)': lista_f_x, 'ER': lista_er})\n",
    "md(df.to_markdown(numalign = 'center', stralign = 'center', floatfmt = '.6f', index=True))"
   ]
  },
  {
   "source": [
    "Após 13 iterações pode-se concluir que $x_k = 2,308228$. Além disso na décima terceira iteração o erro relativo é menor que a precisão de $\\varepsilon$."
   ],
   "cell_type": "markdown",
   "metadata": {}
  },
  {
   "source": [
    "Plotando a tabela dos resultados obtidos pelas iterações do método da falsa posição."
   ],
   "cell_type": "markdown",
   "metadata": {}
  },
  {
   "cell_type": "code",
   "execution_count": 222,
   "metadata": {},
   "outputs": [
    {
     "output_type": "execute_result",
     "data": {
      "text/plain": [
       "<IPython.core.display.Markdown object>"
      ],
      "text/markdown": "|    |  Valor de x_k  |  Valor de f(x)  |    ER    |\n|:--:|:--------------:|:---------------:|:--------:|\n| 0  |    2.284158    |    0.128242     | 0.562202 |\n| 1  |    2.306449    |    0.009219     | 0.009665 |\n| 2  |    2.308048    |    0.000657     | 0.000693 |\n| 3  |    2.308162    |    0.000047     | 0.000049 |"
     },
     "metadata": {},
     "execution_count": 222
    }
   ],
   "source": [
    "x_k = metodo_falsa_posicao(a, b, e, x_k1)\n",
    "df = pd.DataFrame({'Valor de x_k': lista_x_k,'Valor de f(x)': lista_f_x, 'ER': lista_er})\n",
    "md(df.to_markdown(numalign = 'center', stralign = 'center', floatfmt = '.6f', index=True))"
   ]
  },
  {
   "source": [
    "Após 4 iterações pode-se concluir que $x_k = 2,308162$. Além disso na quarta iteração o erro relativo é menor que a precisão de $\\varepsilon$."
   ],
   "cell_type": "markdown",
   "metadata": {}
  },
  {
   "source": [
    "##"
   ],
   "cell_type": "markdown",
   "metadata": {}
  },
  {
   "source": [
    "Definindo a função e sua derivada"
   ],
   "cell_type": "markdown",
   "metadata": {}
  },
  {
   "cell_type": "code",
   "execution_count": 223,
   "metadata": {},
   "outputs": [],
   "source": [
    "def f(x):\n",
    "    return sympy.sin(6.3*x)/6.3 - 12.6*x**3"
   ]
  },
  {
   "cell_type": "code",
   "execution_count": 224,
   "metadata": {},
   "outputs": [],
   "source": [
    "def f_dx(x):\n",
    "    return sympy.cos(6.3*x) - 37.8*x**2"
   ]
  },
  {
   "source": [
    "Definindo um valor inicial de $x_k = -2,5$ e $\\varepsilon = 0,0001$"
   ],
   "cell_type": "markdown",
   "metadata": {}
  },
  {
   "cell_type": "code",
   "execution_count": 225,
   "metadata": {},
   "outputs": [],
   "source": [
    "x_k = 0.4\n",
    "e = 0.001\n",
    "lista_x_k.clear()\n",
    "lista_f_dx = list()\n",
    "lista_f_x = list()\n",
    "lista_e = list()"
   ]
  },
  {
   "source": [
    "Definindo o erro relativo como restrição <font size='10'> $\\frac{|x_k-x_{k-1}|}{max\\{x_{k},1\\}}$ </font> "
   ],
   "cell_type": "markdown",
   "metadata": {}
  },
  {
   "cell_type": "code",
   "execution_count": 226,
   "metadata": {},
   "outputs": [],
   "source": [
    "def erro_relativo(x_k, x_k1, max_xk_1):\n",
    "    return (abs(x_k - x_k1)/max_xk_1)"
   ]
  },
  {
   "source": [
    "Realizando as iterações do método de Newton:"
   ],
   "cell_type": "markdown",
   "metadata": {}
  },
  {
   "cell_type": "code",
   "execution_count": 227,
   "metadata": {},
   "outputs": [],
   "source": [
    "def metodo_newton(x_k, e):\n",
    "    eh_1_iteração = True\n",
    "    x_k1 = 0\n",
    "    while True:\n",
    "\n",
    "        lista_x_k.append(x_k)\n",
    "        lista_f_x.append(f(x_k))\n",
    "        lista_f_dx.append(f_dx(x_k))\n",
    "\n",
    "        if abs(x_k) < 1:\n",
    "            max_xk_1 = 1\n",
    "\n",
    "        else:\n",
    "            max_xk_1 = abs(x_k)\n",
    "        \n",
    "        lista_e.append(abs(x_k - x_k1)/max_xk_1)\n",
    "\n",
    "        if not eh_1_iteração and (abs(f(x_k)) >= e and erro_relativo(x_k, x_k1, max_xk_1) > e):\n",
    "            x_k1 = x_k\n",
    "            x_k = x_k - (f(x_k)/f_dx(x_k))\n",
    "        \n",
    "        elif eh_1_iteração and abs(f(x_k)) >= e:\n",
    "            x_k1 = x_k\n",
    "            x_k = x_k - (f(x_k)/f_dx(x_k))\n",
    "            eh_1_iteração = False\n",
    "\n",
    "        else:\n",
    "            break\n",
    "    return x_k"
   ]
  },
  {
   "cell_type": "code",
   "execution_count": 228,
   "metadata": {},
   "outputs": [],
   "source": [
    "x_k = metodo_newton(x_k, e)"
   ]
  },
  {
   "source": [
    "Plotando a tabela dos resultados obtidos pelas iterações."
   ],
   "cell_type": "markdown",
   "metadata": {}
  },
  {
   "cell_type": "code",
   "execution_count": 229,
   "metadata": {},
   "outputs": [
    {
     "output_type": "execute_result",
     "data": {
      "text/plain": [
       "<IPython.core.display.Markdown object>"
      ],
      "text/markdown": "|    |   x_k    |  f_dx(x_k)  |  f(x_k)   |    ER    |\n|:--:|:--------:|:-----------:|:---------:|:--------:|\n| 0  | 0.400000 |  -6.860952  | -0.713967 | 0.400000 |\n| 1  | 0.295938 |  -3.599901  | -0.174629 | 0.104062 |\n| 2  | 0.247428 |  -2.302147  | -0.032143 | 0.048509 |\n| 3  | 0.233466 |  -1.960550  | -0.002402 | 0.013962 |\n| 4  | 0.232241 |  -1.931302  | -0.000018 | 0.001225 |"
     },
     "metadata": {},
     "execution_count": 229
    }
   ],
   "source": [
    "df = pd.DataFrame({'x_k': lista_x_k,'f_dx(x_k)': lista_f_dx, 'f(x_k)': lista_f_x,'ER': lista_e})\n",
    "md(df.to_markdown(numalign = 'center', stralign = 'center', floatfmt = '.6f', index=True))"
   ]
  },
  {
   "source": [
    "Após 3 iterações pode-se concluir que $x_k = 2,308173$. Além disso na terceira iteração o valor da f(x) é menor que a precisão de $\\varepsilon$."
   ],
   "cell_type": "markdown",
   "metadata": {}
  },
  {
   "source": [
    "##"
   ],
   "cell_type": "markdown",
   "metadata": {}
  },
  {
   "source": [
    "Definindo a função $g(x) = \\sqrt{cos(x) + 6}$"
   ],
   "cell_type": "markdown",
   "metadata": {}
  },
  {
   "cell_type": "code",
   "execution_count": 230,
   "metadata": {},
   "outputs": [],
   "source": [
    "def g(x):\n",
    "    return sqrt(sympy.cos(x) + 6)"
   ]
  },
  {
   "source": [
    "Calculando a derivada de $g(x)$:"
   ],
   "cell_type": "markdown",
   "metadata": {}
  },
  {
   "cell_type": "code",
   "execution_count": 231,
   "metadata": {},
   "outputs": [
    {
     "output_type": "execute_result",
     "data": {
      "text/plain": [
       "-sin(x)/(2*sqrt(cos(x) + 6))"
      ],
      "text/latex": "$\\displaystyle - \\frac{\\sin{\\left(x \\right)}}{2 \\sqrt{\\cos{\\left(x \\right)} + 6}}$"
     },
     "metadata": {},
     "execution_count": 231
    }
   ],
   "source": [
    "g_dx = diff(g(x), x)\n",
    "g_dx"
   ]
  },
  {
   "source": [
    "Analisando a função é possível visualizar que a função $sen(x)$ e $cos(x)$ são periódicas e assumirão intervalos de -1 a 1, assim o maior valor que o numerador pode assumir é 1, e o menor valor que o denominador pode assumir será $2\\sqrt{6}$. Portanto, para qualquer valor de $x$ variando nos reais a função retornará valores entre 0 e $\\frac{1}{2\\sqrt{5}}$, respeitando a inequação $|\\frac{-sen(x)}{2\\sqrt{cos(x) + 6}}| < 1$."
   ],
   "cell_type": "markdown",
   "metadata": {}
  },
  {
   "source": [
    "Definindo um valor inicial de $x_k = 2,5$ e $\\varepsilon = 0,001$"
   ],
   "cell_type": "markdown",
   "metadata": {}
  },
  {
   "cell_type": "code",
   "execution_count": 232,
   "metadata": {},
   "outputs": [],
   "source": [
    "x_k = 2.5\n",
    "e = 0.001\n",
    "lista_x_k = list()\n",
    "lista_g_x = list()\n",
    "lista_f_x = list()\n",
    "lista_e = list()"
   ]
  },
  {
   "source": [
    "Realizando as iterações do método de ponto fixo:"
   ],
   "cell_type": "markdown",
   "metadata": {}
  },
  {
   "cell_type": "code",
   "execution_count": 233,
   "metadata": {},
   "outputs": [],
   "source": [
    "def metodo_ponto_fixo(x_k, e):\n",
    "\n",
    "    while True:\n",
    "\n",
    "        lista_x_k.append(x_k)\n",
    "        x_k1 = x_k\n",
    "        x_k = g(x_k)\n",
    "        lista_g_x.append(x_k)\n",
    "        lista_f_x.append(abs(f(x_k)))\n",
    "\n",
    "        if abs(x_k) < 1:\n",
    "            max_xk_1 = 1\n",
    "\n",
    "        else:\n",
    "            max_xk_1 = abs(x_k)\n",
    "        \n",
    "        lista_e.append(abs(x_k - x_k1)/max_xk_1)\n",
    "    \n",
    "        if(abs(f(x_k)) >= e and erro_relativo(x_k, x_k1, max_xk_1) > e):\n",
    "            continue\n",
    "\n",
    "        else:\n",
    "            break\n",
    "\n",
    "    return x_k1"
   ]
  },
  {
   "cell_type": "code",
   "execution_count": 234,
   "metadata": {},
   "outputs": [],
   "source": [
    "x_k1 = metodo_ponto_fixo(x_k, e)"
   ]
  },
  {
   "source": [
    "Plotando a tabela dos resultados obtidos pelas iterações."
   ],
   "cell_type": "markdown",
   "metadata": {}
  },
  {
   "cell_type": "code",
   "execution_count": 235,
   "metadata": {},
   "outputs": [
    {
     "output_type": "execute_result",
     "data": {
      "text/plain": [
       "<IPython.core.display.Markdown object>"
      ],
      "text/markdown": "|    |   x_k    |  g(x_k)  |   f(x_k)   |    ER    |\n|:--:|:--------:|:--------:|:----------:|:--------:|\n| 0  | 2.500000 | 2.280100 | 149.204661 | 0.096443 |\n| 1  | 2.280100 | 2.312724 | 155.718628 | 0.014106 |\n| 2  | 2.312724 | 2.307442 | 154.650959 | 0.002289 |\n| 3  | 2.307442 | 2.308288 | 154.821548 | 0.000366 |"
     },
     "metadata": {},
     "execution_count": 235
    }
   ],
   "source": [
    "df = pd.DataFrame({'x_k': lista_x_k,'g(x_k)': lista_g_x, 'f(x_k)': lista_f_x, 'ER': lista_e})\n",
    "md(df.to_markdown(numalign = 'center', stralign = 'center', floatfmt = '.6f', index=True))"
   ]
  },
  {
   "source": [
    "Após 4 iterações pode-se concluir que $x_k = 2,308288$. Além disso na quarta iteração o erro relativo e o valor da f(x) são menores que a precisão de $\\varepsilon$."
   ],
   "cell_type": "markdown",
   "metadata": {}
  },
  {
   "source": [
    "##"
   ],
   "cell_type": "markdown",
   "metadata": {}
  },
  {
   "source": [
    "Portanto, pelas mesmas razões explicadas para os intervalos positivos de x para a função $|\\frac{-sen(x)}{2\\sqrt{cos(x) + 6}}|$, pode-se usar valores negativos pois a função é em módulo, tornando qualquer valor negativo em positivo. "
   ],
   "cell_type": "markdown",
   "metadata": {}
  },
  {
   "source": [
    "##"
   ],
   "cell_type": "markdown",
   "metadata": {}
  },
  {
   "source": [
    "Definindo um valor inicial de $x_k = 2,5$ e $x_{k-1} = 2$ e $\\varepsilon = 0,001$"
   ],
   "cell_type": "markdown",
   "metadata": {}
  },
  {
   "cell_type": "code",
   "execution_count": 236,
   "metadata": {},
   "outputs": [],
   "source": [
    "x_k = 2.50\n",
    "e = 0.001\n",
    "lista_x_k.clear()\n",
    "lista_f_dx = list()\n",
    "lista_f_x = list()\n",
    "lista_e = list()"
   ]
  },
  {
   "source": [
    "Definindo a função f(x) e sua derivada a partir de $f'(x_k) = \\frac{f(x_k) - f(x_{k-1})}{x_k - x_{k-1}}$"
   ],
   "cell_type": "markdown",
   "metadata": {}
  },
  {
   "cell_type": "code",
   "execution_count": 237,
   "metadata": {},
   "outputs": [],
   "source": [
    "def f(x):\n",
    "    return sympy.cos(x) - x**2 + 6"
   ]
  },
  {
   "cell_type": "code",
   "execution_count": 238,
   "metadata": {},
   "outputs": [],
   "source": [
    "def f_dx(x):\n",
    "    return (f(x) - f(x_k1))/(x - x_k1)"
   ]
  },
  {
   "source": [
    "Realizando as iterações do método das secantes:"
   ],
   "cell_type": "markdown",
   "metadata": {}
  },
  {
   "cell_type": "code",
   "execution_count": 239,
   "metadata": {},
   "outputs": [],
   "source": [
    "def metodo_das_secantes(x_k, e):\n",
    "    eh_1_iteração = True\n",
    "    x_k1 = 2\n",
    "    while True:\n",
    "\n",
    "        lista_x_k.append(x_k)\n",
    "        lista_f_x.append(f(x_k))\n",
    "        lista_f_dx.append(f_dx(x_k))\n",
    "\n",
    "        if abs(x_k) < 1:\n",
    "            max_xk_1 = 1\n",
    "\n",
    "        else:\n",
    "            max_xk_1 = abs(x_k)\n",
    "        \n",
    "        lista_e.append(abs(x_k - x_k1)/max_xk_1)\n",
    "\n",
    "        if not eh_1_iteração and (abs(f(x_k)) >= e and erro_relativo(x_k, x_k1, max_xk_1) > e):\n",
    "            x_k1 = x_k\n",
    "            x_k = x_k - (f(x_k)/f_dx(x_k))\n",
    "        \n",
    "        elif eh_1_iteração and abs(f(x_k)) >= e:\n",
    "            x_k1 = x_k\n",
    "            x_k = x_k - (f(x_k)/f_dx(x_k))\n",
    "            eh_1_iteração = False\n",
    "\n",
    "        else:\n",
    "            break\n",
    "    return x_k"
   ]
  },
  {
   "cell_type": "code",
   "execution_count": 240,
   "metadata": {},
   "outputs": [],
   "source": [
    "x_k = metodo_das_secantes(x_k, e)"
   ]
  },
  {
   "source": [
    "Plotando a tabela dos resultados obtidos pelas iterações."
   ],
   "cell_type": "markdown",
   "metadata": {}
  },
  {
   "cell_type": "code",
   "execution_count": 241,
   "metadata": {},
   "outputs": [
    {
     "output_type": "execute_result",
     "data": {
      "text/plain": [
       "<IPython.core.display.Markdown object>"
      ],
      "text/markdown": "|    |   x_k    |  f_dx(x_k)  |  f(x_k)   |    ER    |\n|:--:|:--------:|:-----------:|:---------:|:--------:|\n| 0  | 2.500000 |  -5.479118  | -1.051144 | 0.200000 |\n| 1  | 2.308155 |  -5.356083  | 0.000088  | 0.083116 |"
     },
     "metadata": {},
     "execution_count": 241
    }
   ],
   "source": [
    "df = pd.DataFrame({'x_k': lista_x_k,'f_dx(x_k)': lista_f_dx, 'f(x_k)': lista_f_x,'ER': lista_e})\n",
    "md(df.to_markdown(numalign = 'center', stralign = 'center', floatfmt = '.6f', index=True))"
   ]
  },
  {
   "source": [
    "Após 2 iterações pode-se concluir que $x_k = 2,308155$. Além disso na segunda iteração e o valor da f(x) é menor que a precisão de $\\varepsilon$."
   ],
   "cell_type": "markdown",
   "metadata": {}
  }
 ]
}